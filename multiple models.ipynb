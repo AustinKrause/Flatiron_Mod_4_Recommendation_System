{
 "cells": [
  {
   "cell_type": "markdown",
   "metadata": {},
   "source": [
    "# Importing Necessary Libraries"
   ]
  },
  {
   "cell_type": "code",
   "execution_count": 1,
   "metadata": {},
   "outputs": [],
   "source": [
    "import pandas as pd\n",
    "from surprise.model_selection import cross_validate\n",
    "from surprise.prediction_algorithms import SVD\n",
    "from surprise.prediction_algorithms import KNNWithMeans, KNNBasic, KNNBaseline\n",
    "from surprise.model_selection import GridSearchCV\n",
    "import numpy as np"
   ]
  },
  {
   "cell_type": "code",
   "execution_count": 2,
   "metadata": {},
   "outputs": [
    {
     "data": {
      "text/plain": [
       "(41018, 7)"
      ]
     },
     "execution_count": 2,
     "metadata": {},
     "output_type": "execute_result"
    }
   ],
   "source": [
    "df = pd.read_csv('final_whiskey_data.csv')\n",
    "df = df.drop('Unnamed: 0', axis = 1)\n",
    "df.shape"
   ]
  },
  {
   "cell_type": "code",
   "execution_count": 3,
   "metadata": {},
   "outputs": [],
   "source": [
    "pd.options.display.max_colwidth = 10000"
   ]
  },
  {
   "cell_type": "code",
   "execution_count": 4,
   "metadata": {},
   "outputs": [
    {
     "data": {
      "text/html": [
       "<div>\n",
       "<style scoped>\n",
       "    .dataframe tbody tr th:only-of-type {\n",
       "        vertical-align: middle;\n",
       "    }\n",
       "\n",
       "    .dataframe tbody tr th {\n",
       "        vertical-align: top;\n",
       "    }\n",
       "\n",
       "    .dataframe thead th {\n",
       "        text-align: right;\n",
       "    }\n",
       "</style>\n",
       "<table border=\"1\" class=\"dataframe\">\n",
       "  <thead>\n",
       "    <tr style=\"text-align: right;\">\n",
       "      <th></th>\n",
       "      <th>rating</th>\n",
       "      <th>url</th>\n",
       "      <th>whiskey</th>\n",
       "      <th>User_ID</th>\n",
       "      <th>Whiskey_ID</th>\n",
       "      <th>price(euro)</th>\n",
       "      <th>price(dollar)</th>\n",
       "    </tr>\n",
       "  </thead>\n",
       "  <tbody>\n",
       "    <tr>\n",
       "      <th>0</th>\n",
       "      <td>88</td>\n",
       "      <td>https://www.whiskybase.com/whiskies/whisky/128130/1770-glasgow-single-malt</td>\n",
       "      <td>1770-glasgow-single-malt</td>\n",
       "      <td>852</td>\n",
       "      <td>0</td>\n",
       "      <td>50.88</td>\n",
       "      <td>56.99</td>\n",
       "    </tr>\n",
       "    <tr>\n",
       "      <th>1</th>\n",
       "      <td>87</td>\n",
       "      <td>https://www.whiskybase.com/whiskies/whisky/128130/1770-glasgow-single-malt</td>\n",
       "      <td>1770-glasgow-single-malt</td>\n",
       "      <td>459</td>\n",
       "      <td>0</td>\n",
       "      <td>50.88</td>\n",
       "      <td>56.99</td>\n",
       "    </tr>\n",
       "    <tr>\n",
       "      <th>2</th>\n",
       "      <td>86</td>\n",
       "      <td>https://www.whiskybase.com/whiskies/whisky/128130/1770-glasgow-single-malt</td>\n",
       "      <td>1770-glasgow-single-malt</td>\n",
       "      <td>1205</td>\n",
       "      <td>0</td>\n",
       "      <td>50.88</td>\n",
       "      <td>56.99</td>\n",
       "    </tr>\n",
       "    <tr>\n",
       "      <th>3</th>\n",
       "      <td>85</td>\n",
       "      <td>https://www.whiskybase.com/whiskies/whisky/128130/1770-glasgow-single-malt</td>\n",
       "      <td>1770-glasgow-single-malt</td>\n",
       "      <td>547</td>\n",
       "      <td>0</td>\n",
       "      <td>50.88</td>\n",
       "      <td>56.99</td>\n",
       "    </tr>\n",
       "    <tr>\n",
       "      <th>4</th>\n",
       "      <td>84</td>\n",
       "      <td>https://www.whiskybase.com/whiskies/whisky/128130/1770-glasgow-single-malt</td>\n",
       "      <td>1770-glasgow-single-malt</td>\n",
       "      <td>562</td>\n",
       "      <td>0</td>\n",
       "      <td>50.88</td>\n",
       "      <td>56.99</td>\n",
       "    </tr>\n",
       "  </tbody>\n",
       "</table>\n",
       "</div>"
      ],
      "text/plain": [
       "   rating  \\\n",
       "0      88   \n",
       "1      87   \n",
       "2      86   \n",
       "3      85   \n",
       "4      84   \n",
       "\n",
       "                                                                          url  \\\n",
       "0  https://www.whiskybase.com/whiskies/whisky/128130/1770-glasgow-single-malt   \n",
       "1  https://www.whiskybase.com/whiskies/whisky/128130/1770-glasgow-single-malt   \n",
       "2  https://www.whiskybase.com/whiskies/whisky/128130/1770-glasgow-single-malt   \n",
       "3  https://www.whiskybase.com/whiskies/whisky/128130/1770-glasgow-single-malt   \n",
       "4  https://www.whiskybase.com/whiskies/whisky/128130/1770-glasgow-single-malt   \n",
       "\n",
       "                    whiskey  User_ID  Whiskey_ID  price(euro)  price(dollar)  \n",
       "0  1770-glasgow-single-malt      852           0        50.88          56.99  \n",
       "1  1770-glasgow-single-malt      459           0        50.88          56.99  \n",
       "2  1770-glasgow-single-malt     1205           0        50.88          56.99  \n",
       "3  1770-glasgow-single-malt      547           0        50.88          56.99  \n",
       "4  1770-glasgow-single-malt      562           0        50.88          56.99  "
      ]
     },
     "execution_count": 4,
     "metadata": {},
     "output_type": "execute_result"
    }
   ],
   "source": [
    "df.head()\n"
   ]
  },
  {
   "cell_type": "code",
   "execution_count": 5,
   "metadata": {},
   "outputs": [],
   "source": [
    "df['whiskey'] = df['whiskey'].str.replace('-', ' ').str.title()"
   ]
  },
  {
   "cell_type": "code",
   "execution_count": null,
   "metadata": {},
   "outputs": [],
   "source": []
  },
  {
   "cell_type": "markdown",
   "metadata": {},
   "source": [
    "# Need to make a Dataframe with only User, Item, and Rating for Surprise"
   ]
  },
  {
   "cell_type": "code",
   "execution_count": 6,
   "metadata": {},
   "outputs": [],
   "source": [
    "rec_df = df.drop(columns = ['url', 'price(euro)', 'price(dollar)'])\n",
    "rec_df = rec_df[['User_ID', 'Whiskey_ID', 'rating']]"
   ]
  },
  {
   "cell_type": "markdown",
   "metadata": {},
   "source": [
    "# DataFrame with unique WhiskeyID's to provide all the information from the recommender"
   ]
  },
  {
   "cell_type": "code",
   "execution_count": 7,
   "metadata": {},
   "outputs": [],
   "source": [
    "rec_match = df[['url', 'whiskey', 'Whiskey_ID', 'price(dollar)', 'price(euro)']].drop_duplicates('Whiskey_ID')"
   ]
  },
  {
   "cell_type": "code",
   "execution_count": 8,
   "metadata": {},
   "outputs": [
    {
     "data": {
      "text/html": [
       "<div>\n",
       "<style scoped>\n",
       "    .dataframe tbody tr th:only-of-type {\n",
       "        vertical-align: middle;\n",
       "    }\n",
       "\n",
       "    .dataframe tbody tr th {\n",
       "        vertical-align: top;\n",
       "    }\n",
       "\n",
       "    .dataframe thead th {\n",
       "        text-align: right;\n",
       "    }\n",
       "</style>\n",
       "<table border=\"1\" class=\"dataframe\">\n",
       "  <thead>\n",
       "    <tr style=\"text-align: right;\">\n",
       "      <th></th>\n",
       "      <th>url</th>\n",
       "      <th>whiskey</th>\n",
       "      <th>Whiskey_ID</th>\n",
       "      <th>price(dollar)</th>\n",
       "      <th>price(euro)</th>\n",
       "    </tr>\n",
       "  </thead>\n",
       "  <tbody>\n",
       "    <tr>\n",
       "      <th>0</th>\n",
       "      <td>https://www.whiskybase.com/whiskies/whisky/128130/1770-glasgow-single-malt</td>\n",
       "      <td>1770 Glasgow Single Malt</td>\n",
       "      <td>0</td>\n",
       "      <td>56.99</td>\n",
       "      <td>50.88</td>\n",
       "    </tr>\n",
       "    <tr>\n",
       "      <th>6</th>\n",
       "      <td>https://www.whiskybase.com/whiskies/whisky/125010/a-dream-of-scotland-islay-cask-strength-bw</td>\n",
       "      <td>A Dream Of Scotland Islay Cask Strength Bw</td>\n",
       "      <td>1</td>\n",
       "      <td>89.59</td>\n",
       "      <td>79.99</td>\n",
       "    </tr>\n",
       "    <tr>\n",
       "      <th>53</th>\n",
       "      <td>https://www.whiskybase.com/whiskies/whisky/126951/a-dream-of-scotland-the-old-lady-of-islay-bw</td>\n",
       "      <td>A Dream Of Scotland The Old Lady Of Islay Bw</td>\n",
       "      <td>2</td>\n",
       "      <td>87.25</td>\n",
       "      <td>77.90</td>\n",
       "    </tr>\n",
       "    <tr>\n",
       "      <th>85</th>\n",
       "      <td>https://www.whiskybase.com/whiskies/whisky/129452/aberfeldy-1996-ca</td>\n",
       "      <td>Aberfeldy 1996 Ca</td>\n",
       "      <td>3</td>\n",
       "      <td>97.44</td>\n",
       "      <td>87.00</td>\n",
       "    </tr>\n",
       "    <tr>\n",
       "      <th>87</th>\n",
       "      <td>https://www.whiskybase.com/whiskies/whisky/131516/aberfeldy-1998</td>\n",
       "      <td>Aberfeldy 1998</td>\n",
       "      <td>4</td>\n",
       "      <td>319.20</td>\n",
       "      <td>285.00</td>\n",
       "    </tr>\n",
       "  </tbody>\n",
       "</table>\n",
       "</div>"
      ],
      "text/plain": [
       "                                                                                               url  \\\n",
       "0                       https://www.whiskybase.com/whiskies/whisky/128130/1770-glasgow-single-malt   \n",
       "6     https://www.whiskybase.com/whiskies/whisky/125010/a-dream-of-scotland-islay-cask-strength-bw   \n",
       "53  https://www.whiskybase.com/whiskies/whisky/126951/a-dream-of-scotland-the-old-lady-of-islay-bw   \n",
       "85                             https://www.whiskybase.com/whiskies/whisky/129452/aberfeldy-1996-ca   \n",
       "87                                https://www.whiskybase.com/whiskies/whisky/131516/aberfeldy-1998   \n",
       "\n",
       "                                         whiskey  Whiskey_ID  price(dollar)  \\\n",
       "0                       1770 Glasgow Single Malt           0          56.99   \n",
       "6     A Dream Of Scotland Islay Cask Strength Bw           1          89.59   \n",
       "53  A Dream Of Scotland The Old Lady Of Islay Bw           2          87.25   \n",
       "85                             Aberfeldy 1996 Ca           3          97.44   \n",
       "87                                Aberfeldy 1998           4         319.20   \n",
       "\n",
       "    price(euro)  \n",
       "0         50.88  \n",
       "6         79.99  \n",
       "53        77.90  \n",
       "85        87.00  \n",
       "87       285.00  "
      ]
     },
     "execution_count": 8,
     "metadata": {},
     "output_type": "execute_result"
    }
   ],
   "source": [
    "rec_match.head()"
   ]
  },
  {
   "cell_type": "code",
   "execution_count": null,
   "metadata": {},
   "outputs": [],
   "source": []
  },
  {
   "cell_type": "code",
   "execution_count": 9,
   "metadata": {},
   "outputs": [
    {
     "data": {
      "text/plain": [
       "1222"
      ]
     },
     "execution_count": 9,
     "metadata": {},
     "output_type": "execute_result"
    }
   ],
   "source": [
    "rec_df.User_ID.max()"
   ]
  },
  {
   "cell_type": "markdown",
   "metadata": {},
   "source": [
    "# Fitting the model with our data"
   ]
  },
  {
   "cell_type": "code",
   "execution_count": 10,
   "metadata": {},
   "outputs": [],
   "source": [
    "from surprise import Reader, Dataset\n",
    "reader = Reader(rating_scale = (1,100))\n",
    "data = Dataset.load_from_df(rec_df,reader)"
   ]
  },
  {
   "cell_type": "code",
   "execution_count": 11,
   "metadata": {},
   "outputs": [],
   "source": [
    "from surprise.model_selection import train_test_split\n",
    "from surprise import accuracy\n",
    "# Splitting the data to see how accurate our model will be predicting a rating\n",
    "trainset, testset = train_test_split(data, test_size=0.25, random_state = 100)"
   ]
  },
  {
   "cell_type": "code",
   "execution_count": 12,
   "metadata": {},
   "outputs": [],
   "source": [
    "svd = SVD()\n",
    "svd.fit(trainset)\n",
    "preds = svd.test(testset)"
   ]
  },
  {
   "cell_type": "code",
   "execution_count": 45,
   "metadata": {
    "scrolled": true
   },
   "outputs": [
    {
     "name": "stdout",
     "output_type": "stream",
     "text": [
      "RMSE: 2.3796\n"
     ]
    },
    {
     "data": {
      "text/plain": [
       "2.3796237775556155"
      ]
     },
     "execution_count": 45,
     "metadata": {},
     "output_type": "execute_result"
    }
   ],
   "source": [
    "# Rating the Model\n",
    "accuracy.rmse(preds)"
   ]
  },
  {
   "cell_type": "markdown",
   "metadata": {},
   "source": [
    "# Test function to see how well our model predicts"
   ]
  },
  {
   "cell_type": "code",
   "execution_count": 36,
   "metadata": {},
   "outputs": [],
   "source": [
    "def recommend_whiskey(uid, iid, actual):\n",
    "    pred = svd.predict(uid, iid, actual, verbose=True)\n",
    "    match = rec_match.loc[rec_match['Whiskey_ID'] == iid]\n",
    "    return match"
   ]
  },
  {
   "cell_type": "code",
   "execution_count": 37,
   "metadata": {},
   "outputs": [
    {
     "name": "stdout",
     "output_type": "stream",
     "text": [
      "user: 852        item: 0          r_ui = 88.00   est = 89.20   {'was_impossible': False}\n"
     ]
    },
    {
     "data": {
      "text/html": [
       "<div>\n",
       "<style scoped>\n",
       "    .dataframe tbody tr th:only-of-type {\n",
       "        vertical-align: middle;\n",
       "    }\n",
       "\n",
       "    .dataframe tbody tr th {\n",
       "        vertical-align: top;\n",
       "    }\n",
       "\n",
       "    .dataframe thead th {\n",
       "        text-align: right;\n",
       "    }\n",
       "</style>\n",
       "<table border=\"1\" class=\"dataframe\">\n",
       "  <thead>\n",
       "    <tr style=\"text-align: right;\">\n",
       "      <th></th>\n",
       "      <th>url</th>\n",
       "      <th>whiskey</th>\n",
       "      <th>Whiskey_ID</th>\n",
       "      <th>price(dollar)</th>\n",
       "      <th>price(euro)</th>\n",
       "    </tr>\n",
       "  </thead>\n",
       "  <tbody>\n",
       "    <tr>\n",
       "      <th>0</th>\n",
       "      <td>https://www.whiskybase.com/whiskies/whisky/128130/1770-glasgow-single-malt</td>\n",
       "      <td>1770 Glasgow Single Malt</td>\n",
       "      <td>0</td>\n",
       "      <td>56.99</td>\n",
       "      <td>50.88</td>\n",
       "    </tr>\n",
       "  </tbody>\n",
       "</table>\n",
       "</div>"
      ],
      "text/plain": [
       "                                                                          url  \\\n",
       "0  https://www.whiskybase.com/whiskies/whisky/128130/1770-glasgow-single-malt   \n",
       "\n",
       "                    whiskey  Whiskey_ID  price(dollar)  price(euro)  \n",
       "0  1770 Glasgow Single Malt           0          56.99        50.88  "
      ]
     },
     "execution_count": 37,
     "metadata": {},
     "output_type": "execute_result"
    }
   ],
   "source": [
    "recommend_whiskey(852,0, 88)"
   ]
  },
  {
   "cell_type": "markdown",
   "metadata": {},
   "source": [
    "# Model Tuning"
   ]
  },
  {
   "cell_type": "markdown",
   "metadata": {},
   "source": [
    "### GridSearch"
   ]
  },
  {
   "cell_type": "code",
   "execution_count": 75,
   "metadata": {},
   "outputs": [],
   "source": [
    "## Perform a gridsearch with SVD\n",
    "params = {'n_factors' :[30,31,32,33,34,35,36,37,38,40],\n",
    "         'reg_all':[0.02,0.05,0.1]}\n",
    "g_s_svd = GridSearchCV(SVD,param_grid=params,n_jobs=-1)\n",
    "g_s_svd.fit(data)\n",
    "#rmse: 2.33"
   ]
  },
  {
   "cell_type": "code",
   "execution_count": 77,
   "metadata": {},
   "outputs": [
    {
     "name": "stdout",
     "output_type": "stream",
     "text": [
      "{'rmse': 2.3328953721149546, 'mae': 1.5086242093244597}\n",
      "{'rmse': {'n_factors': 34, 'reg_all': 0.1}, 'mae': {'n_factors': 38, 'reg_all': 0.1}}\n"
     ]
    }
   ],
   "source": [
    "print(g_s_svd.best_score)\n",
    "print(g_s_svd.best_params)"
   ]
  },
  {
   "cell_type": "code",
   "execution_count": 88,
   "metadata": {},
   "outputs": [],
   "source": [
    "## Perform a gridsearch with SVD\n",
    "params = {'n_factors' :[30,31,32,33,34,35,36,37,38,40],\n",
    "         'reg_all':[0.02,0.05,0.1],\n",
    "         'n_epochs':(20,40,60)}\n",
    "g_s_svd = GridSearchCV(SVD,param_grid=params,n_jobs=-1)\n",
    "g_s_svd.fit(data)\n"
   ]
  },
  {
   "cell_type": "code",
   "execution_count": 89,
   "metadata": {},
   "outputs": [
    {
     "name": "stdout",
     "output_type": "stream",
     "text": [
      "{'rmse': 2.3136214053763138, 'mae': 1.4924415619575369}\n",
      "{'rmse': {'n_factors': 40, 'reg_all': 0.1, 'n_epochs': 40}, 'mae': {'n_factors': 40, 'reg_all': 0.1, 'n_epochs': 40}}\n"
     ]
    }
   ],
   "source": [
    "print(g_s_svd.best_score)\n",
    "print(g_s_svd.best_params)"
   ]
  },
  {
   "cell_type": "markdown",
   "metadata": {},
   "source": [
    "### KNN_basic"
   ]
  },
  {
   "cell_type": "code",
   "execution_count": 84,
   "metadata": {},
   "outputs": [],
   "source": [
    "# cross validating with KNNBasic\n",
    "knn_basic = KNNBasic(sim_options={'name':'pearson','user_based':True, 'k':(40, 60, 70, 80, 90, 100, 120), 'min_k':(1,2,3,4)})\n",
    "cv_knn_basic= cross_validate(knn_basic,data,n_jobs=-1)"
   ]
  },
  {
   "cell_type": "code",
   "execution_count": 85,
   "metadata": {},
   "outputs": [
    {
     "name": "stdout",
     "output_type": "stream",
     "text": [
      "('test_rmse', array([2.89629519, 2.84793825, 2.46140974, 2.71759606, 2.55949326]))\n",
      "('test_mae', array([1.72919834, 1.76436181, 1.67818883, 1.72511326, 1.72328209]))\n",
      "('fit_time', (1.0760939121246338, 1.2453320026397705, 1.5318851470947266, 1.59450101852417, 1.1700971126556396))\n",
      "('test_time', (2.4097161293029785, 2.6374258995056152, 2.2420060634613037, 1.6377956867218018, 1.2237699031829834))\n",
      "-----------------------\n",
      "2.696546500424127\n"
     ]
    }
   ],
   "source": [
    "for i in cv_knn_basic.items():\n",
    "    print(i)\n",
    "print('-----------------------')\n",
    "print(np.mean(cv_knn_basic['test_rmse']))"
   ]
  },
  {
   "cell_type": "markdown",
   "metadata": {},
   "source": [
    "### KNN_baseline"
   ]
  },
  {
   "cell_type": "code",
   "execution_count": 86,
   "metadata": {},
   "outputs": [
    {
     "name": "stdout",
     "output_type": "stream",
     "text": [
      "Estimating biases using als...\n",
      "Computing the pearson similarity matrix...\n",
      "Done computing similarity matrix.\n",
      "Estimating biases using als...\n",
      "Computing the pearson similarity matrix...\n",
      "Done computing similarity matrix.\n",
      "Estimating biases using als...\n",
      "Computing the pearson similarity matrix...\n",
      "Done computing similarity matrix.\n",
      "Estimating biases using als...\n",
      "Computing the pearson similarity matrix...\n",
      "Done computing similarity matrix.\n",
      "Estimating biases using als...\n",
      "Computing the pearson similarity matrix...\n",
      "Done computing similarity matrix.\n"
     ]
    }
   ],
   "source": [
    "# cross validating with KNNBaseline\n",
    "knn_baseline = KNNBaseline(sim_options={'name':'pearson','user_based':True, 'k':(40, 60, 80, 100, 120), \n",
    "                                        'min_k':(1,2,3,4)})\n",
    "cv_knn_baseline = cross_validate(knn_baseline,data)"
   ]
  },
  {
   "cell_type": "code",
   "execution_count": 87,
   "metadata": {
    "scrolled": true
   },
   "outputs": [
    {
     "name": "stdout",
     "output_type": "stream",
     "text": [
      "('test_rmse', array([2.40336211, 2.34713519, 2.29184318, 2.4846802 , 2.36150075]))\n",
      "('test_mae', array([1.53194464, 1.54741206, 1.54163633, 1.55180007, 1.5497515 ]))\n",
      "('fit_time', (0.9768247604370117, 0.9011051654815674, 0.8609700202941895, 0.8791882991790771, 0.8943300247192383))\n",
      "('test_time', (1.7123231887817383, 1.3695590496063232, 1.3944129943847656, 1.422109842300415, 1.380979061126709))\n"
     ]
    },
    {
     "data": {
      "text/plain": [
       "2.3777042860619977"
      ]
     },
     "execution_count": 87,
     "metadata": {},
     "output_type": "execute_result"
    }
   ],
   "source": [
    "for i in cv_knn_baseline.items():\n",
    "    print(i)\n",
    "\n",
    "np.mean(cv_knn_baseline['test_rmse'])"
   ]
  },
  {
   "cell_type": "markdown",
   "metadata": {},
   "source": [
    "# New model with the best parameters"
   ]
  },
  {
   "cell_type": "code",
   "execution_count": 93,
   "metadata": {},
   "outputs": [],
   "source": [
    "svd = SVD(n_factors= 40, reg_all= 0.1, n_epochs= 40)\n",
    "svd.fit(trainset)\n",
    "preds = svd.test(testset)"
   ]
  },
  {
   "cell_type": "code",
   "execution_count": 94,
   "metadata": {},
   "outputs": [
    {
     "name": "stdout",
     "output_type": "stream",
     "text": [
      "RMSE: 2.3076\n"
     ]
    },
    {
     "data": {
      "text/plain": [
       "2.307609168044974"
      ]
     },
     "execution_count": 94,
     "metadata": {},
     "output_type": "execute_result"
    }
   ],
   "source": [
    "# Rating the Model\n",
    "accuracy.rmse(preds)"
   ]
  },
  {
   "cell_type": "code",
   "execution_count": 95,
   "metadata": {},
   "outputs": [],
   "source": [
    "def recommend_whiskey(uid, iid, actual):\n",
    "    pred = svd.predict(uid, iid, actual, verbose=True)\n",
    "    match = rec_match.loc[rec_match['Whiskey_ID'] == iid]\n",
    "    return match"
   ]
  },
  {
   "cell_type": "code",
   "execution_count": 96,
   "metadata": {},
   "outputs": [
    {
     "name": "stdout",
     "output_type": "stream",
     "text": [
      "user: 852        item: 0          r_ui = 88.00   est = 88.57   {'was_impossible': False}\n"
     ]
    },
    {
     "data": {
      "text/html": [
       "<div>\n",
       "<style scoped>\n",
       "    .dataframe tbody tr th:only-of-type {\n",
       "        vertical-align: middle;\n",
       "    }\n",
       "\n",
       "    .dataframe tbody tr th {\n",
       "        vertical-align: top;\n",
       "    }\n",
       "\n",
       "    .dataframe thead th {\n",
       "        text-align: right;\n",
       "    }\n",
       "</style>\n",
       "<table border=\"1\" class=\"dataframe\">\n",
       "  <thead>\n",
       "    <tr style=\"text-align: right;\">\n",
       "      <th></th>\n",
       "      <th>url</th>\n",
       "      <th>whiskey</th>\n",
       "      <th>Whiskey_ID</th>\n",
       "      <th>price(dollar)</th>\n",
       "      <th>price(euro)</th>\n",
       "    </tr>\n",
       "  </thead>\n",
       "  <tbody>\n",
       "    <tr>\n",
       "      <th>0</th>\n",
       "      <td>https://www.whiskybase.com/whiskies/whisky/128130/1770-glasgow-single-malt</td>\n",
       "      <td>1770 Glasgow Single Malt</td>\n",
       "      <td>0</td>\n",
       "      <td>56.99</td>\n",
       "      <td>50.88</td>\n",
       "    </tr>\n",
       "  </tbody>\n",
       "</table>\n",
       "</div>"
      ],
      "text/plain": [
       "                                                                          url  \\\n",
       "0  https://www.whiskybase.com/whiskies/whisky/128130/1770-glasgow-single-malt   \n",
       "\n",
       "                    whiskey  Whiskey_ID  price(dollar)  price(euro)  \n",
       "0  1770 Glasgow Single Malt           0          56.99        50.88  "
      ]
     },
     "execution_count": 96,
     "metadata": {},
     "output_type": "execute_result"
    }
   ],
   "source": [
    "recommend_whiskey(852,0, 88)"
   ]
  },
  {
   "cell_type": "markdown",
   "metadata": {},
   "source": [
    "# Helper function to return recommendations to the user. Used in the whiskey_rater function below"
   ]
  },
  {
   "cell_type": "code",
   "execution_count": 97,
   "metadata": {},
   "outputs": [],
   "source": [
    "## add the new ratings to the original ratings DataFrame\n",
    "def get_recommendations(user_ratings, num_recs, priceUSD):\n",
    "    new_ratings_df = rec_match.append(user_ratings,ignore_index=True)\n",
    "    new_ratings_df = new_ratings_df[new_ratings_df['price(dollar)'] < priceUSD]\n",
    "    new_ratings_df = new_ratings_df.drop(columns=['url', 'whiskey', 'price(dollar)', 'price(euro)'])\n",
    "#     new_ratings_df = rec_df.append(user_ratings,ignore_index=True)\n",
    "    #load in new df\n",
    "    new_data = Dataset.load_from_df(new_ratings_df,reader)\n",
    "    #create new svd object\n",
    "    svd_new = SVD(n_factors= 40, reg_all= 0.1, n_epochs= 40)\n",
    "    #re fit the model\n",
    "    svd_new.fit(new_data.build_full_trainset())\n",
    "\n",
    "    # make predictions for the user\n",
    "    list_of_whiskies = []\n",
    "    for w_id in new_ratings_df['Whiskey_ID'].unique():\n",
    "        list_of_whiskies.append((w_id, svd_new.predict(new_ratings_df['User_ID'].max(),w_id)[3]))\n",
    "\n",
    "    # order the predictions from highest to lowest rated\n",
    "    ranked_whiskies = sorted(list_of_whiskies, key=lambda x:x[1],reverse=True)\n",
    "\n",
    "    rec_num = 1\n",
    "    for i in ranked_whiskies[:num_recs]:\n",
    "#         match = rec_match[rec_match['price(dollar)'] < priceUSD]\n",
    "        recommended = rec_match[rec_match['Whiskey_ID'] == i[0]]\n",
    "        print('Recommendation number:', rec_num)\n",
    "        print('Whiskey: ' + recommended.values[0][1])\n",
    "        print('Price: ' + str(recommended.values[0][-1]))\n",
    "        print('URL: ' + recommended.values[0][0])\n",
    "        print('\\n')\n",
    "        rec_num +=1\n",
    "\n"
   ]
  },
  {
   "cell_type": "code",
   "execution_count": 98,
   "metadata": {},
   "outputs": [],
   "source": [
    "def whiskey_rater(df, num):\n",
    "    userID = rec_df.User_ID.max()+1\n",
    "    num_recs = input('How many recommendations would you like? Please enter a number from 1 to 10:\\n')\n",
    "    while int(num_recs) > 10:\n",
    "        num_recs = input('You entered a number over 10. Please enter a number from 1 to 10 to continue. \\n')\n",
    "    priceUSD = input('Please enter your budget for a bottle of whiskey.')\n",
    "    rating_list = []\n",
    "    while num > 0:\n",
    "        whiskey = df[df['price(dollar)'] < int(priceUSD)].sample(1)\n",
    "        print('\\nPlease rate the following {} whiskies. \\n'.format(num))\n",
    "        print('Whiskey: ' + whiskey.values[0][2])\n",
    "        print('Price: ' + str(whiskey.values[0][-1]))\n",
    "        print('URL: ' + whiskey.values[0][1])\n",
    "        rating = input('How do you rate this whiskey on a scale of 1-100, press n if you are not familiar with it. :\\n')\n",
    "        if int(rating) > 100:\n",
    "            rating = 100\n",
    "            \n",
    "        if rating == 'n':\n",
    "            continue\n",
    "        else:\n",
    "            rating_one_whiskey = {'User_ID':userID,'Whiskey_ID': whiskey['Whiskey_ID'].values[0],'rating': rating}\n",
    "            rating_list.append(rating_one_whiskey) \n",
    "            num -= 1\n",
    "    print('\\n'+'-----Making Recommendations-----'+'\\n')\n",
    "    get_recommendations(rating_list, int(num_recs), int(priceUSD))\n",
    "        "
   ]
  },
  {
   "cell_type": "code",
   "execution_count": 99,
   "metadata": {},
   "outputs": [
    {
     "name": "stdout",
     "output_type": "stream",
     "text": [
      "How many recommendations would you like? Please enter a number from 1 to 10:\n",
      "5\n",
      "Please enter your budget for a bottle of whiskey.1000\n",
      "\n",
      "Please rate the following 5 whiskies. \n",
      "\n",
      "Whiskey: Macallan 1964\n",
      "Price: 952.0\n",
      "URL: https://www.whiskybase.com/whiskies/whisky/54993/macallan-1964\n",
      "How do you rate this whiskey on a scale of 1-100, press n if you are not familiar with it. :\n",
      "100\n",
      "\n",
      "Please rate the following 4 whiskies. \n",
      "\n",
      "Whiskey: Port Ellen 1969 Gm\n",
      "Price: 0.0\n",
      "URL: https://www.whiskybase.com/whiskies/whisky/95396/port-ellen-1969-gm\n",
      "How do you rate this whiskey on a scale of 1-100, press n if you are not familiar with it. :\n",
      "80\n",
      "\n",
      "Please rate the following 3 whiskies. \n",
      "\n",
      "Whiskey: Glenfarclas 1967\n",
      "Price: 436.8\n",
      "URL: https://www.whiskybase.com/whiskies/whisky/12187/glenfarclas-1967\n",
      "How do you rate this whiskey on a scale of 1-100, press n if you are not familiar with it. :\n",
      "80\n",
      "\n",
      "Please rate the following 2 whiskies. \n",
      "\n",
      "Whiskey: Glen Grant 1964 Jm\n",
      "Price: 436.8\n",
      "URL: https://www.whiskybase.com/whiskies/whisky/24053/glen-grant-1964-jm\n",
      "How do you rate this whiskey on a scale of 1-100, press n if you are not familiar with it. :\n",
      "50\n",
      "\n",
      "Please rate the following 1 whiskies. \n",
      "\n",
      "Whiskey: Secret Speyside Distillery 2002 Mbl\n",
      "Price: 156.8\n",
      "URL: https://www.whiskybase.com/whiskies/whisky/128456/secret-speyside-distillery-2002-mbl\n",
      "How do you rate this whiskey on a scale of 1-100, press n if you are not familiar with it. :\n",
      "75\n",
      "\n",
      "-----Making Recommendations-----\n",
      "\n",
      "Recommendation number: 1\n",
      "Whiskey: 1770 Glasgow Single Malt\n",
      "Price: 50.88\n",
      "URL: https://www.whiskybase.com/whiskies/whisky/128130/1770-glasgow-single-malt\n",
      "\n",
      "\n",
      "Recommendation number: 2\n",
      "Whiskey: A Dream Of Scotland Islay Cask Strength Bw\n",
      "Price: 79.99\n",
      "URL: https://www.whiskybase.com/whiskies/whisky/125010/a-dream-of-scotland-islay-cask-strength-bw\n",
      "\n",
      "\n",
      "Recommendation number: 3\n",
      "Whiskey: A Dream Of Scotland The Old Lady Of Islay Bw\n",
      "Price: 77.9\n",
      "URL: https://www.whiskybase.com/whiskies/whisky/126951/a-dream-of-scotland-the-old-lady-of-islay-bw\n",
      "\n",
      "\n",
      "Recommendation number: 4\n",
      "Whiskey: Aberfeldy 1996 Ca\n",
      "Price: 87.0\n",
      "URL: https://www.whiskybase.com/whiskies/whisky/129452/aberfeldy-1996-ca\n",
      "\n",
      "\n",
      "Recommendation number: 5\n",
      "Whiskey: Aberfeldy 1998\n",
      "Price: 285.0\n",
      "URL: https://www.whiskybase.com/whiskies/whisky/131516/aberfeldy-1998\n",
      "\n",
      "\n"
     ]
    }
   ],
   "source": [
    "user_ratings= whiskey_rater(df, 5)"
   ]
  },
  {
   "cell_type": "code",
   "execution_count": null,
   "metadata": {},
   "outputs": [],
   "source": []
  }
 ],
 "metadata": {
  "kernelspec": {
   "display_name": "Python 3",
   "language": "python",
   "name": "python3"
  },
  "language_info": {
   "codemirror_mode": {
    "name": "ipython",
    "version": 3
   },
   "file_extension": ".py",
   "mimetype": "text/x-python",
   "name": "python",
   "nbconvert_exporter": "python",
   "pygments_lexer": "ipython3",
   "version": "3.7.1"
  }
 },
 "nbformat": 4,
 "nbformat_minor": 2
}

{
 "cells": [
  {
   "cell_type": "markdown",
   "metadata": {},
   "source": [
    "# Importing Necessary Libraries"
   ]
  },
  {
   "cell_type": "code",
   "execution_count": 68,
   "metadata": {},
   "outputs": [],
   "source": [
    "import pandas as pd\n",
    "from surprise.model_selection import cross_validate\n",
    "from surprise.prediction_algorithms import SVD\n",
    "from surprise.prediction_algorithms import KNNWithMeans, KNNBasic, KNNBaseline\n",
    "from surprise.model_selection import GridSearchCV\n",
    "import numpy as np\n",
    "import time"
   ]
  },
  {
   "cell_type": "code",
   "execution_count": 2,
   "metadata": {},
   "outputs": [
    {
     "data": {
      "text/plain": [
       "(41018, 7)"
      ]
     },
     "execution_count": 2,
     "metadata": {},
     "output_type": "execute_result"
    }
   ],
   "source": [
    "df = pd.read_csv('final_whiskey_data.csv')\n",
    "df = df.drop('Unnamed: 0', axis = 1)\n",
    "df.shape"
   ]
  },
  {
   "cell_type": "code",
   "execution_count": 3,
   "metadata": {},
   "outputs": [],
   "source": [
    "pd.options.display.max_colwidth = 10000"
   ]
  },
  {
   "cell_type": "code",
   "execution_count": 4,
   "metadata": {},
   "outputs": [
    {
     "data": {
      "text/html": [
       "<div>\n",
       "<style scoped>\n",
       "    .dataframe tbody tr th:only-of-type {\n",
       "        vertical-align: middle;\n",
       "    }\n",
       "\n",
       "    .dataframe tbody tr th {\n",
       "        vertical-align: top;\n",
       "    }\n",
       "\n",
       "    .dataframe thead th {\n",
       "        text-align: right;\n",
       "    }\n",
       "</style>\n",
       "<table border=\"1\" class=\"dataframe\">\n",
       "  <thead>\n",
       "    <tr style=\"text-align: right;\">\n",
       "      <th></th>\n",
       "      <th>rating</th>\n",
       "      <th>url</th>\n",
       "      <th>whiskey</th>\n",
       "      <th>User_ID</th>\n",
       "      <th>Whiskey_ID</th>\n",
       "      <th>price(euro)</th>\n",
       "      <th>price(dollar)</th>\n",
       "    </tr>\n",
       "  </thead>\n",
       "  <tbody>\n",
       "    <tr>\n",
       "      <th>0</th>\n",
       "      <td>88</td>\n",
       "      <td>https://www.whiskybase.com/whiskies/whisky/128130/1770-glasgow-single-malt</td>\n",
       "      <td>1770-glasgow-single-malt</td>\n",
       "      <td>852</td>\n",
       "      <td>0</td>\n",
       "      <td>50.88</td>\n",
       "      <td>56.99</td>\n",
       "    </tr>\n",
       "    <tr>\n",
       "      <th>1</th>\n",
       "      <td>87</td>\n",
       "      <td>https://www.whiskybase.com/whiskies/whisky/128130/1770-glasgow-single-malt</td>\n",
       "      <td>1770-glasgow-single-malt</td>\n",
       "      <td>459</td>\n",
       "      <td>0</td>\n",
       "      <td>50.88</td>\n",
       "      <td>56.99</td>\n",
       "    </tr>\n",
       "    <tr>\n",
       "      <th>2</th>\n",
       "      <td>86</td>\n",
       "      <td>https://www.whiskybase.com/whiskies/whisky/128130/1770-glasgow-single-malt</td>\n",
       "      <td>1770-glasgow-single-malt</td>\n",
       "      <td>1205</td>\n",
       "      <td>0</td>\n",
       "      <td>50.88</td>\n",
       "      <td>56.99</td>\n",
       "    </tr>\n",
       "    <tr>\n",
       "      <th>3</th>\n",
       "      <td>85</td>\n",
       "      <td>https://www.whiskybase.com/whiskies/whisky/128130/1770-glasgow-single-malt</td>\n",
       "      <td>1770-glasgow-single-malt</td>\n",
       "      <td>547</td>\n",
       "      <td>0</td>\n",
       "      <td>50.88</td>\n",
       "      <td>56.99</td>\n",
       "    </tr>\n",
       "    <tr>\n",
       "      <th>4</th>\n",
       "      <td>84</td>\n",
       "      <td>https://www.whiskybase.com/whiskies/whisky/128130/1770-glasgow-single-malt</td>\n",
       "      <td>1770-glasgow-single-malt</td>\n",
       "      <td>562</td>\n",
       "      <td>0</td>\n",
       "      <td>50.88</td>\n",
       "      <td>56.99</td>\n",
       "    </tr>\n",
       "  </tbody>\n",
       "</table>\n",
       "</div>"
      ],
      "text/plain": [
       "   rating  \\\n",
       "0      88   \n",
       "1      87   \n",
       "2      86   \n",
       "3      85   \n",
       "4      84   \n",
       "\n",
       "                                                                          url  \\\n",
       "0  https://www.whiskybase.com/whiskies/whisky/128130/1770-glasgow-single-malt   \n",
       "1  https://www.whiskybase.com/whiskies/whisky/128130/1770-glasgow-single-malt   \n",
       "2  https://www.whiskybase.com/whiskies/whisky/128130/1770-glasgow-single-malt   \n",
       "3  https://www.whiskybase.com/whiskies/whisky/128130/1770-glasgow-single-malt   \n",
       "4  https://www.whiskybase.com/whiskies/whisky/128130/1770-glasgow-single-malt   \n",
       "\n",
       "                    whiskey  User_ID  Whiskey_ID  price(euro)  price(dollar)  \n",
       "0  1770-glasgow-single-malt      852           0        50.88          56.99  \n",
       "1  1770-glasgow-single-malt      459           0        50.88          56.99  \n",
       "2  1770-glasgow-single-malt     1205           0        50.88          56.99  \n",
       "3  1770-glasgow-single-malt      547           0        50.88          56.99  \n",
       "4  1770-glasgow-single-malt      562           0        50.88          56.99  "
      ]
     },
     "execution_count": 4,
     "metadata": {},
     "output_type": "execute_result"
    }
   ],
   "source": [
    "df.head()\n"
   ]
  },
  {
   "cell_type": "code",
   "execution_count": 5,
   "metadata": {},
   "outputs": [],
   "source": [
    "df['whiskey'] = df['whiskey'].str.replace('-', ' ').str.title()"
   ]
  },
  {
   "cell_type": "code",
   "execution_count": null,
   "metadata": {},
   "outputs": [],
   "source": []
  },
  {
   "cell_type": "markdown",
   "metadata": {},
   "source": [
    "# Need to make a Dataframe with only User, Item, and Rating for Surprise"
   ]
  },
  {
   "cell_type": "code",
   "execution_count": 6,
   "metadata": {},
   "outputs": [],
   "source": [
    "rec_df = df.drop(columns = ['url', 'price(euro)', 'price(dollar)'])\n",
    "rec_df = rec_df[['User_ID', 'Whiskey_ID', 'rating']]"
   ]
  },
  {
   "cell_type": "markdown",
   "metadata": {},
   "source": [
    "# DataFrame with unique WhiskeyID's to provide all the information from the recommender"
   ]
  },
  {
   "cell_type": "code",
   "execution_count": 7,
   "metadata": {},
   "outputs": [],
   "source": [
    "rec_match = df[['url', 'whiskey', 'Whiskey_ID', 'price(dollar)', 'price(euro)']].drop_duplicates('Whiskey_ID')"
   ]
  },
  {
   "cell_type": "code",
   "execution_count": 8,
   "metadata": {},
   "outputs": [
    {
     "data": {
      "text/html": [
       "<div>\n",
       "<style scoped>\n",
       "    .dataframe tbody tr th:only-of-type {\n",
       "        vertical-align: middle;\n",
       "    }\n",
       "\n",
       "    .dataframe tbody tr th {\n",
       "        vertical-align: top;\n",
       "    }\n",
       "\n",
       "    .dataframe thead th {\n",
       "        text-align: right;\n",
       "    }\n",
       "</style>\n",
       "<table border=\"1\" class=\"dataframe\">\n",
       "  <thead>\n",
       "    <tr style=\"text-align: right;\">\n",
       "      <th></th>\n",
       "      <th>url</th>\n",
       "      <th>whiskey</th>\n",
       "      <th>Whiskey_ID</th>\n",
       "      <th>price(dollar)</th>\n",
       "      <th>price(euro)</th>\n",
       "    </tr>\n",
       "  </thead>\n",
       "  <tbody>\n",
       "    <tr>\n",
       "      <th>0</th>\n",
       "      <td>https://www.whiskybase.com/whiskies/whisky/128130/1770-glasgow-single-malt</td>\n",
       "      <td>1770 Glasgow Single Malt</td>\n",
       "      <td>0</td>\n",
       "      <td>56.99</td>\n",
       "      <td>50.88</td>\n",
       "    </tr>\n",
       "    <tr>\n",
       "      <th>6</th>\n",
       "      <td>https://www.whiskybase.com/whiskies/whisky/125010/a-dream-of-scotland-islay-cask-strength-bw</td>\n",
       "      <td>A Dream Of Scotland Islay Cask Strength Bw</td>\n",
       "      <td>1</td>\n",
       "      <td>89.59</td>\n",
       "      <td>79.99</td>\n",
       "    </tr>\n",
       "    <tr>\n",
       "      <th>53</th>\n",
       "      <td>https://www.whiskybase.com/whiskies/whisky/126951/a-dream-of-scotland-the-old-lady-of-islay-bw</td>\n",
       "      <td>A Dream Of Scotland The Old Lady Of Islay Bw</td>\n",
       "      <td>2</td>\n",
       "      <td>87.25</td>\n",
       "      <td>77.90</td>\n",
       "    </tr>\n",
       "    <tr>\n",
       "      <th>85</th>\n",
       "      <td>https://www.whiskybase.com/whiskies/whisky/129452/aberfeldy-1996-ca</td>\n",
       "      <td>Aberfeldy 1996 Ca</td>\n",
       "      <td>3</td>\n",
       "      <td>97.44</td>\n",
       "      <td>87.00</td>\n",
       "    </tr>\n",
       "    <tr>\n",
       "      <th>87</th>\n",
       "      <td>https://www.whiskybase.com/whiskies/whisky/131516/aberfeldy-1998</td>\n",
       "      <td>Aberfeldy 1998</td>\n",
       "      <td>4</td>\n",
       "      <td>319.20</td>\n",
       "      <td>285.00</td>\n",
       "    </tr>\n",
       "  </tbody>\n",
       "</table>\n",
       "</div>"
      ],
      "text/plain": [
       "                                                                                               url  \\\n",
       "0                       https://www.whiskybase.com/whiskies/whisky/128130/1770-glasgow-single-malt   \n",
       "6     https://www.whiskybase.com/whiskies/whisky/125010/a-dream-of-scotland-islay-cask-strength-bw   \n",
       "53  https://www.whiskybase.com/whiskies/whisky/126951/a-dream-of-scotland-the-old-lady-of-islay-bw   \n",
       "85                             https://www.whiskybase.com/whiskies/whisky/129452/aberfeldy-1996-ca   \n",
       "87                                https://www.whiskybase.com/whiskies/whisky/131516/aberfeldy-1998   \n",
       "\n",
       "                                         whiskey  Whiskey_ID  price(dollar)  \\\n",
       "0                       1770 Glasgow Single Malt           0          56.99   \n",
       "6     A Dream Of Scotland Islay Cask Strength Bw           1          89.59   \n",
       "53  A Dream Of Scotland The Old Lady Of Islay Bw           2          87.25   \n",
       "85                             Aberfeldy 1996 Ca           3          97.44   \n",
       "87                                Aberfeldy 1998           4         319.20   \n",
       "\n",
       "    price(euro)  \n",
       "0         50.88  \n",
       "6         79.99  \n",
       "53        77.90  \n",
       "85        87.00  \n",
       "87       285.00  "
      ]
     },
     "execution_count": 8,
     "metadata": {},
     "output_type": "execute_result"
    }
   ],
   "source": [
    "rec_match.head()"
   ]
  },
  {
   "cell_type": "code",
   "execution_count": null,
   "metadata": {},
   "outputs": [],
   "source": []
  },
  {
   "cell_type": "code",
   "execution_count": 9,
   "metadata": {},
   "outputs": [
    {
     "data": {
      "text/plain": [
       "1222"
      ]
     },
     "execution_count": 9,
     "metadata": {},
     "output_type": "execute_result"
    }
   ],
   "source": [
    "rec_df.User_ID.max()"
   ]
  },
  {
   "cell_type": "markdown",
   "metadata": {},
   "source": [
    "# Fitting the model with our data"
   ]
  },
  {
   "cell_type": "code",
   "execution_count": 10,
   "metadata": {},
   "outputs": [],
   "source": [
    "from surprise import Reader, Dataset\n",
    "reader = Reader(rating_scale = (1,100))\n",
    "data = Dataset.load_from_df(rec_df,reader)"
   ]
  },
  {
   "cell_type": "code",
   "execution_count": 11,
   "metadata": {},
   "outputs": [],
   "source": [
    "from surprise.model_selection import train_test_split\n",
    "from surprise import accuracy\n",
    "# Splitting the data to see how accurate our model will be predicting a rating\n",
    "trainset, testset = train_test_split(data, test_size=0.25, random_state = 100)"
   ]
  },
  {
   "cell_type": "code",
   "execution_count": 12,
   "metadata": {},
   "outputs": [],
   "source": [
    "svd = SVD()\n",
    "svd.fit(trainset)\n",
    "preds = svd.test(testset)"
   ]
  },
  {
   "cell_type": "code",
   "execution_count": 13,
   "metadata": {},
   "outputs": [
    {
     "name": "stdout",
     "output_type": "stream",
     "text": [
      "RMSE: 2.3577\n"
     ]
    },
    {
     "data": {
      "text/plain": [
       "2.3577444245702304"
      ]
     },
     "execution_count": 13,
     "metadata": {},
     "output_type": "execute_result"
    }
   ],
   "source": [
    "# Rating the Model\n",
    "accuracy.rmse(preds)"
   ]
  },
  {
   "cell_type": "markdown",
   "metadata": {},
   "source": [
    "# Test function to see how well our model predicts"
   ]
  },
  {
   "cell_type": "code",
   "execution_count": 36,
   "metadata": {},
   "outputs": [],
   "source": [
    "def recommend_whiskey(uid, iid, actual):\n",
    "    pred = svd.predict(uid, iid, actual, verbose=True)\n",
    "    match = rec_match.loc[rec_match['Whiskey_ID'] == iid]\n",
    "    return match"
   ]
  },
  {
   "cell_type": "code",
   "execution_count": 37,
   "metadata": {},
   "outputs": [
    {
     "name": "stdout",
     "output_type": "stream",
     "text": [
      "user: 852        item: 0          r_ui = 88.00   est = 89.20   {'was_impossible': False}\n"
     ]
    },
    {
     "data": {
      "text/html": [
       "<div>\n",
       "<style scoped>\n",
       "    .dataframe tbody tr th:only-of-type {\n",
       "        vertical-align: middle;\n",
       "    }\n",
       "\n",
       "    .dataframe tbody tr th {\n",
       "        vertical-align: top;\n",
       "    }\n",
       "\n",
       "    .dataframe thead th {\n",
       "        text-align: right;\n",
       "    }\n",
       "</style>\n",
       "<table border=\"1\" class=\"dataframe\">\n",
       "  <thead>\n",
       "    <tr style=\"text-align: right;\">\n",
       "      <th></th>\n",
       "      <th>url</th>\n",
       "      <th>whiskey</th>\n",
       "      <th>Whiskey_ID</th>\n",
       "      <th>price(dollar)</th>\n",
       "      <th>price(euro)</th>\n",
       "    </tr>\n",
       "  </thead>\n",
       "  <tbody>\n",
       "    <tr>\n",
       "      <th>0</th>\n",
       "      <td>https://www.whiskybase.com/whiskies/whisky/128130/1770-glasgow-single-malt</td>\n",
       "      <td>1770 Glasgow Single Malt</td>\n",
       "      <td>0</td>\n",
       "      <td>56.99</td>\n",
       "      <td>50.88</td>\n",
       "    </tr>\n",
       "  </tbody>\n",
       "</table>\n",
       "</div>"
      ],
      "text/plain": [
       "                                                                          url  \\\n",
       "0  https://www.whiskybase.com/whiskies/whisky/128130/1770-glasgow-single-malt   \n",
       "\n",
       "                    whiskey  Whiskey_ID  price(dollar)  price(euro)  \n",
       "0  1770 Glasgow Single Malt           0          56.99        50.88  "
      ]
     },
     "execution_count": 37,
     "metadata": {},
     "output_type": "execute_result"
    }
   ],
   "source": [
    "recommend_whiskey(852,0, 88)"
   ]
  },
  {
   "cell_type": "markdown",
   "metadata": {},
   "source": [
    "# Helper function to return recommendations to the user. Used in the whiskey_rater function below"
   ]
  },
  {
   "cell_type": "code",
   "execution_count": 50,
   "metadata": {},
   "outputs": [],
   "source": [
    "## add the new ratings to the original ratings DataFrame\n",
    "def get_recommendations(user_ratings, num_recs, priceUSD):\n",
    "    new_ratings_df = rec_match.append(user_ratings,ignore_index=True)\n",
    "    new_ratings_df = new_ratings_df[new_ratings_df['price(dollar)'] < priceUSD]\n",
    "    new_ratings_df = new_ratings_df.drop(columns=['url', 'whiskey', 'price(dollar)', 'price(euro)'])\n",
    "\n",
    "    #load in new df\n",
    "    new_data = Dataset.load_from_df(new_ratings_df,reader)\n",
    "    #create new svd object\n",
    "    svd_new = SVD()\n",
    "    #re fit the model\n",
    "    svd_new.fit(new_data.build_full_trainset())\n",
    "\n",
    "    # make predictions for the user\n",
    "    list_of_whiskies = []\n",
    "    for w_id in new_ratings_df['Whiskey_ID'].unique():\n",
    "        list_of_whiskies.append((w_id, svd_new.predict(new_ratings_df['User_ID'].max(),w_id)[3]))\n",
    "\n",
    "    # order the predictions from highest to lowest rated\n",
    "    ranked_whiskies = sorted(list_of_whiskies, key=lambda x:x[1],reverse=True)\n",
    "\n",
    "    rec_num = 1\n",
    "    for i in ranked_whiskies[:num_recs]:\n",
    "        recommended = rec_match[rec_match['Whiskey_ID'] == i[0]]\n",
    "        print('Recommendation number:', rec_num)\n",
    "        print('Whiskey: ' + recommended.values[0][1])\n",
    "        print('Price: ' + str(recommended.values[0][-1]))\n",
    "        print('URL: ' + recommended.values[0][0])\n",
    "        print('\\n')\n",
    "        rec_num +=1\n",
    "\n"
   ]
  },
  {
   "cell_type": "code",
   "execution_count": 77,
   "metadata": {},
   "outputs": [],
   "source": [
    "def whiskey_rater(df, num):\n",
    "    userID = rec_df.User_ID.max()+1\n",
    "    num_recs = input('How many recommendations would you like? Please enter a number from 1 to 10:\\n')\n",
    "    \n",
    "    while int(num_recs) > 10:\n",
    "        num_recs = input('You entered a number over 10. Please enter a number from 1 to 10 to continue. \\n')\n",
    "    priceUSD = input('Please enter your budget for a bottle of whiskey. $')\n",
    "    rating_list = []\n",
    "    \n",
    "    while num > 0:\n",
    "        whiskey = df[df['price(dollar)'] < int(priceUSD)].sample(1)\n",
    "        print('\\nPlease rate the following {} whiskies. \\n'.format(num))\n",
    "        print('Whiskey: ' + whiskey.values[0][2])\n",
    "        print('Price: ' + str(whiskey.values[0][-1]))\n",
    "        print('URL: ' + whiskey.values[0][1])\n",
    "        rating = input('How do you rate this whiskey on a scale of 1-100, press n if you are not familiar with it. :\\n')\n",
    "            \n",
    "        if rating == 'n':\n",
    "            continue\n",
    "        \n",
    "        if int(rating) > 100:\n",
    "            print('Rating must be below 100!')\n",
    "            continue\n",
    "        \n",
    "        else:\n",
    "            rating_one_whiskey = {'User_ID':userID,'Whiskey_ID': whiskey['Whiskey_ID'].values[0],'rating': rating}\n",
    "            rating_list.append(rating_one_whiskey) \n",
    "            num -= 1\n",
    "        time.sleep(.5)\n",
    "    print('\\n'+'-----Making Recommendations-----'+'\\n')\n",
    "    \n",
    "    time.sleep(1.5)\n",
    "    get_recommendations(rating_list, int(num_recs), int(priceUSD))\n",
    "        "
   ]
  },
  {
   "cell_type": "code",
   "execution_count": 78,
   "metadata": {},
   "outputs": [
    {
     "name": "stdout",
     "output_type": "stream",
     "text": [
      "How many recommendations would you like? Please enter a number from 1 to 10:\n",
      "5\n",
      "Please enter your budget for a bottle of whiskey. $23\n",
      "\n",
      "Please rate the following 5 whiskies. \n",
      "\n",
      "Whiskey: Macallan 1950 Gm\n",
      "Price: 0.0\n",
      "URL: https://www.whiskybase.com/whiskies/whisky/62546/macallan-1950-gm\n",
      "How do you rate this whiskey on a scale of 1-100, press n if you are not familiar with it. :\n",
      "n\n",
      "\n",
      "Please rate the following 5 whiskies. \n",
      "\n",
      "Whiskey: Glenglassaugh 37 Year Old\n",
      "Price: 0.0\n",
      "URL: https://www.whiskybase.com/whiskies/whisky/85425/glenglassaugh-37-year-old\n",
      "How do you rate this whiskey on a scale of 1-100, press n if you are not familiar with it. :\n",
      "23\n",
      "\n",
      "Please rate the following 4 whiskies. \n",
      "\n",
      "Whiskey: Macallan 1961 Br\n",
      "Price: 1.12\n",
      "URL: https://www.whiskybase.com/whiskies/whisky/33849/macallan-1961-br\n",
      "How do you rate this whiskey on a scale of 1-100, press n if you are not familiar with it. :\n",
      "34\n",
      "\n",
      "Please rate the following 3 whiskies. \n",
      "\n",
      "Whiskey: Macallan 1961 Br\n",
      "Price: 1.12\n",
      "URL: https://www.whiskybase.com/whiskies/whisky/33849/macallan-1961-br\n",
      "How do you rate this whiskey on a scale of 1-100, press n if you are not familiar with it. :\n",
      "64\n",
      "\n",
      "Please rate the following 2 whiskies. \n",
      "\n",
      "Whiskey: Port Ellen 1969 Gm\n",
      "Price: 0.0\n",
      "URL: https://www.whiskybase.com/whiskies/whisky/95396/port-ellen-1969-gm\n",
      "How do you rate this whiskey on a scale of 1-100, press n if you are not familiar with it. :\n",
      "23\n",
      "\n",
      "Please rate the following 1 whiskies. \n",
      "\n",
      "Whiskey: Glenfarclas 40 Year Old Scottish Classic\n",
      "Price: 0.0\n",
      "URL: https://www.whiskybase.com/whiskies/whisky/40727/glenfarclas-40-year-old-scottish-classic\n",
      "How do you rate this whiskey on a scale of 1-100, press n if you are not familiar with it. :\n",
      "54\n",
      "\n",
      "-----Making Recommendations-----\n",
      "\n",
      "Recommendation number: 1\n",
      "Whiskey: Abhainn Dearg 10 Year Old\n",
      "Price: 12.0\n",
      "URL: https://www.whiskybase.com/whiskies/whisky/132162/abhainn-dearg-10-year-old\n",
      "\n",
      "\n",
      "Recommendation number: 2\n",
      "Whiskey: Braon Peat Nas Ww8\n",
      "Price: 3.2\n",
      "URL: https://www.whiskybase.com/whiskies/whisky/131884/braon-peat-nas-ww8\n",
      "\n",
      "\n",
      "Recommendation number: 3\n",
      "Whiskey: Bunnahabhain 2011 Sv\n",
      "Price: 0.0\n",
      "URL: https://www.whiskybase.com/whiskies/whisky/128662/bunnahabhain-2011-sv\n",
      "\n",
      "\n",
      "Recommendation number: 4\n",
      "Whiskey: Dartmoor Whisky New Make\n",
      "Price: 0.0\n",
      "URL: https://www.whiskybase.com/whiskies/whisky/127874/dartmoor-whisky-new-make\n",
      "\n",
      "\n",
      "Recommendation number: 5\n",
      "Whiskey: Glen Spey 1981 Rs\n",
      "Price: 0.0\n",
      "URL: https://www.whiskybase.com/whiskies/whisky/128651/glen-spey-1981-rs\n",
      "\n",
      "\n"
     ]
    }
   ],
   "source": [
    "user_ratings= whiskey_rater(df, 5)"
   ]
  },
  {
   "cell_type": "code",
   "execution_count": null,
   "metadata": {},
   "outputs": [],
   "source": []
  }
 ],
 "metadata": {
  "kernelspec": {
   "display_name": "Python 3",
   "language": "python",
   "name": "python3"
  },
  "language_info": {
   "codemirror_mode": {
    "name": "ipython",
    "version": 3
   },
   "file_extension": ".py",
   "mimetype": "text/x-python",
   "name": "python",
   "nbconvert_exporter": "python",
   "pygments_lexer": "ipython3",
   "version": "3.7.2"
  }
 },
 "nbformat": 4,
 "nbformat_minor": 2
}

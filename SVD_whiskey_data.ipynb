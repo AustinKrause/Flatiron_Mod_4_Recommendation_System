{
 "cells": [
  {
   "cell_type": "code",
   "execution_count": 135,
   "metadata": {},
   "outputs": [],
   "source": [
    "import pandas as pd\n",
    "from surprise.model_selection import cross_validate\n",
    "from surprise.prediction_algorithms import SVD\n",
    "from surprise.prediction_algorithms import KNNWithMeans, KNNBasic, KNNBaseline\n",
    "from surprise.model_selection import GridSearchCV\n",
    "import numpy as np"
   ]
  },
  {
   "cell_type": "code",
   "execution_count": 171,
   "metadata": {},
   "outputs": [
    {
     "data": {
      "text/plain": [
       "(41018, 7)"
      ]
     },
     "execution_count": 171,
     "metadata": {},
     "output_type": "execute_result"
    }
   ],
   "source": [
    "df = pd.read_csv('final_whiskey_data.csv')\n",
    "df.shape"
   ]
  },
  {
   "cell_type": "code",
   "execution_count": null,
   "metadata": {},
   "outputs": [],
   "source": []
  },
  {
   "cell_type": "code",
   "execution_count": 172,
   "metadata": {},
   "outputs": [
    {
     "data": {
      "text/html": [
       "<div>\n",
       "<style scoped>\n",
       "    .dataframe tbody tr th:only-of-type {\n",
       "        vertical-align: middle;\n",
       "    }\n",
       "\n",
       "    .dataframe tbody tr th {\n",
       "        vertical-align: top;\n",
       "    }\n",
       "\n",
       "    .dataframe thead th {\n",
       "        text-align: right;\n",
       "    }\n",
       "</style>\n",
       "<table border=\"1\" class=\"dataframe\">\n",
       "  <thead>\n",
       "    <tr style=\"text-align: right;\">\n",
       "      <th></th>\n",
       "      <th>Unnamed: 0</th>\n",
       "      <th>rating</th>\n",
       "      <th>url</th>\n",
       "      <th>whiskey</th>\n",
       "      <th>user_ID</th>\n",
       "      <th>price(euro)</th>\n",
       "      <th>price(dollar)</th>\n",
       "    </tr>\n",
       "  </thead>\n",
       "  <tbody>\n",
       "    <tr>\n",
       "      <th>0</th>\n",
       "      <td>0</td>\n",
       "      <td>88</td>\n",
       "      <td>https://www.whiskybase.com/whiskies/whisky/128...</td>\n",
       "      <td>1770-glasgow-single-malt</td>\n",
       "      <td>852</td>\n",
       "      <td>50.88</td>\n",
       "      <td>56.99</td>\n",
       "    </tr>\n",
       "    <tr>\n",
       "      <th>1</th>\n",
       "      <td>3</td>\n",
       "      <td>87</td>\n",
       "      <td>https://www.whiskybase.com/whiskies/whisky/128...</td>\n",
       "      <td>1770-glasgow-single-malt</td>\n",
       "      <td>459</td>\n",
       "      <td>50.88</td>\n",
       "      <td>56.99</td>\n",
       "    </tr>\n",
       "    <tr>\n",
       "      <th>2</th>\n",
       "      <td>4</td>\n",
       "      <td>86</td>\n",
       "      <td>https://www.whiskybase.com/whiskies/whisky/128...</td>\n",
       "      <td>1770-glasgow-single-malt</td>\n",
       "      <td>1205</td>\n",
       "      <td>50.88</td>\n",
       "      <td>56.99</td>\n",
       "    </tr>\n",
       "    <tr>\n",
       "      <th>3</th>\n",
       "      <td>5</td>\n",
       "      <td>85</td>\n",
       "      <td>https://www.whiskybase.com/whiskies/whisky/128...</td>\n",
       "      <td>1770-glasgow-single-malt</td>\n",
       "      <td>547</td>\n",
       "      <td>50.88</td>\n",
       "      <td>56.99</td>\n",
       "    </tr>\n",
       "    <tr>\n",
       "      <th>4</th>\n",
       "      <td>7</td>\n",
       "      <td>84</td>\n",
       "      <td>https://www.whiskybase.com/whiskies/whisky/128...</td>\n",
       "      <td>1770-glasgow-single-malt</td>\n",
       "      <td>562</td>\n",
       "      <td>50.88</td>\n",
       "      <td>56.99</td>\n",
       "    </tr>\n",
       "  </tbody>\n",
       "</table>\n",
       "</div>"
      ],
      "text/plain": [
       "   Unnamed: 0  rating                                                url  \\\n",
       "0           0      88  https://www.whiskybase.com/whiskies/whisky/128...   \n",
       "1           3      87  https://www.whiskybase.com/whiskies/whisky/128...   \n",
       "2           4      86  https://www.whiskybase.com/whiskies/whisky/128...   \n",
       "3           5      85  https://www.whiskybase.com/whiskies/whisky/128...   \n",
       "4           7      84  https://www.whiskybase.com/whiskies/whisky/128...   \n",
       "\n",
       "                    whiskey  user_ID  price(euro)  price(dollar)  \n",
       "0  1770-glasgow-single-malt      852        50.88          56.99  \n",
       "1  1770-glasgow-single-malt      459        50.88          56.99  \n",
       "2  1770-glasgow-single-malt     1205        50.88          56.99  \n",
       "3  1770-glasgow-single-malt      547        50.88          56.99  \n",
       "4  1770-glasgow-single-malt      562        50.88          56.99  "
      ]
     },
     "execution_count": 172,
     "metadata": {},
     "output_type": "execute_result"
    }
   ],
   "source": [
    "df.head()"
   ]
  },
  {
   "cell_type": "code",
   "execution_count": 173,
   "metadata": {},
   "outputs": [],
   "source": [
    "rec_df = df.drop(columns = ['Unnamed: 0', 'url', 'price(euro)', 'price(dollar)'])\n",
    "rec_df = rec_df[['user_ID', 'whiskey', 'rating']]"
   ]
  },
  {
   "cell_type": "code",
   "execution_count": 174,
   "metadata": {},
   "outputs": [
    {
     "data": {
      "text/html": [
       "<div>\n",
       "<style scoped>\n",
       "    .dataframe tbody tr th:only-of-type {\n",
       "        vertical-align: middle;\n",
       "    }\n",
       "\n",
       "    .dataframe tbody tr th {\n",
       "        vertical-align: top;\n",
       "    }\n",
       "\n",
       "    .dataframe thead th {\n",
       "        text-align: right;\n",
       "    }\n",
       "</style>\n",
       "<table border=\"1\" class=\"dataframe\">\n",
       "  <thead>\n",
       "    <tr style=\"text-align: right;\">\n",
       "      <th></th>\n",
       "      <th>user_ID</th>\n",
       "      <th>whiskey</th>\n",
       "      <th>rating</th>\n",
       "    </tr>\n",
       "  </thead>\n",
       "  <tbody>\n",
       "    <tr>\n",
       "      <th>0</th>\n",
       "      <td>852</td>\n",
       "      <td>1770-glasgow-single-malt</td>\n",
       "      <td>88</td>\n",
       "    </tr>\n",
       "    <tr>\n",
       "      <th>1</th>\n",
       "      <td>459</td>\n",
       "      <td>1770-glasgow-single-malt</td>\n",
       "      <td>87</td>\n",
       "    </tr>\n",
       "    <tr>\n",
       "      <th>2</th>\n",
       "      <td>1205</td>\n",
       "      <td>1770-glasgow-single-malt</td>\n",
       "      <td>86</td>\n",
       "    </tr>\n",
       "    <tr>\n",
       "      <th>3</th>\n",
       "      <td>547</td>\n",
       "      <td>1770-glasgow-single-malt</td>\n",
       "      <td>85</td>\n",
       "    </tr>\n",
       "    <tr>\n",
       "      <th>4</th>\n",
       "      <td>562</td>\n",
       "      <td>1770-glasgow-single-malt</td>\n",
       "      <td>84</td>\n",
       "    </tr>\n",
       "  </tbody>\n",
       "</table>\n",
       "</div>"
      ],
      "text/plain": [
       "   user_ID                   whiskey  rating\n",
       "0      852  1770-glasgow-single-malt      88\n",
       "1      459  1770-glasgow-single-malt      87\n",
       "2     1205  1770-glasgow-single-malt      86\n",
       "3      547  1770-glasgow-single-malt      85\n",
       "4      562  1770-glasgow-single-malt      84"
      ]
     },
     "execution_count": 174,
     "metadata": {},
     "output_type": "execute_result"
    }
   ],
   "source": [
    "rec_df.head()"
   ]
  },
  {
   "cell_type": "code",
   "execution_count": 175,
   "metadata": {},
   "outputs": [
    {
     "name": "stdout",
     "output_type": "stream",
     "text": [
      "92.90055585352772\n",
      "3.2778365698077585\n"
     ]
    }
   ],
   "source": [
    "print(df.rating.mean())\n",
    "print(df.rating.std())"
   ]
  },
  {
   "cell_type": "code",
   "execution_count": 176,
   "metadata": {},
   "outputs": [],
   "source": [
    "from surprise import Reader, Dataset\n",
    "reader = Reader(rating_scale = (1,100))\n",
    "data = Dataset.load_from_df(rec_df,reader)\n"
   ]
  },
  {
   "cell_type": "code",
   "execution_count": 177,
   "metadata": {},
   "outputs": [],
   "source": [
    "from surprise.model_selection import train_test_split\n",
    "from surprise import accuracy\n",
    "\n",
    "trainset, testset = train_test_split(data, test_size=0.25)"
   ]
  },
  {
   "cell_type": "code",
   "execution_count": 178,
   "metadata": {},
   "outputs": [],
   "source": [
    "svd = SVD()\n",
    "svd.rating_scale = (1,100)\n",
    "svd.fit(trainset)\n",
    "preds = svd.test(testset)"
   ]
  },
  {
   "cell_type": "code",
   "execution_count": 179,
   "metadata": {},
   "outputs": [
    {
     "name": "stdout",
     "output_type": "stream",
     "text": [
      "RMSE: 2.3120\n"
     ]
    },
    {
     "data": {
      "text/plain": [
       "2.3119532634626783"
      ]
     },
     "execution_count": 179,
     "metadata": {},
     "output_type": "execute_result"
    }
   ],
   "source": [
    "accuracy.rmse(preds)"
   ]
  },
  {
   "cell_type": "code",
   "execution_count": 180,
   "metadata": {},
   "outputs": [],
   "source": [
    "uid = str(459)\n",
    "iid = '1770-glasgow-single-malt'"
   ]
  },
  {
   "cell_type": "code",
   "execution_count": 181,
   "metadata": {},
   "outputs": [
    {
     "name": "stdout",
     "output_type": "stream",
     "text": [
      "user: 459        item: 1770-glasgow-single-malt r_ui = None   est = 90.44   {'was_impossible': False}\n"
     ]
    }
   ],
   "source": [
    "pred = svd.predict(uid, iid, verbose=True)"
   ]
  },
  {
   "cell_type": "code",
   "execution_count": null,
   "metadata": {},
   "outputs": [],
   "source": []
  },
  {
   "cell_type": "code",
   "execution_count": null,
   "metadata": {},
   "outputs": [],
   "source": []
  },
  {
   "cell_type": "code",
   "execution_count": null,
   "metadata": {},
   "outputs": [],
   "source": []
  },
  {
   "cell_type": "code",
   "execution_count": null,
   "metadata": {},
   "outputs": [],
   "source": []
  },
  {
   "cell_type": "code",
   "execution_count": 38,
   "metadata": {},
   "outputs": [
    {
     "name": "stdout",
     "output_type": "stream",
     "text": [
      "Number of users:  1223 \n",
      "\n",
      "Number of items:  1092\n"
     ]
    }
   ],
   "source": [
    "dataset = data.build_full_trainset()\n",
    "print('Number of users: ',dataset.n_users,'\\n')\n",
    "print('Number of items: ',dataset.n_items)"
   ]
  },
  {
   "cell_type": "code",
   "execution_count": 40,
   "metadata": {},
   "outputs": [],
   "source": [
    "## Perform a gridsearch with SVD\n",
    "params = {'n_factors' :[20,50,100],\n",
    "         'reg_all':[0.02,0.05,0.1]}\n",
    "g_s_svd = GridSearchCV(SVD,param_grid=params,n_jobs=-1)\n",
    "g_s_svd.fit(data)"
   ]
  },
  {
   "cell_type": "code",
   "execution_count": 41,
   "metadata": {},
   "outputs": [
    {
     "name": "stdout",
     "output_type": "stream",
     "text": [
      "{'rmse': 87.96164513918447, 'mae': 87.90070237173458}\n",
      "{'rmse': {'n_factors': 20, 'reg_all': 0.02}, 'mae': {'n_factors': 20, 'reg_all': 0.02}}\n"
     ]
    }
   ],
   "source": [
    "print(g_s_svd.best_score)\n",
    "print(g_s_svd.best_params)"
   ]
  },
  {
   "cell_type": "markdown",
   "metadata": {},
   "source": [
    "<h3>Cross validate with KNN Basic"
   ]
  },
  {
   "cell_type": "code",
   "execution_count": 42,
   "metadata": {},
   "outputs": [],
   "source": [
    "# cross validating with KNNBasic\n",
    "knn_basic = KNNBasic(sim_options={'name':'pearson','user_based':True})\n",
    "cv_knn_basic= cross_validate(knn_basic,data,n_jobs=-1)"
   ]
  },
  {
   "cell_type": "code",
   "execution_count": 43,
   "metadata": {},
   "outputs": [
    {
     "name": "stdout",
     "output_type": "stream",
     "text": [
      "('test_rmse', array([87.93006729, 87.96218881, 88.01188641, 87.96345991, 87.94061698]))\n",
      "('test_mae', array([87.86884447, 87.90102389, 87.95514383, 87.89845179, 87.88004389]))\n",
      "('fit_time', (1.3787519931793213, 1.9605121612548828, 2.4493520259857178, 2.3677592277526855, 2.0128660202026367))\n",
      "('test_time', (3.269965171813965, 3.477729082107544, 2.9920778274536133, 2.4421842098236084, 1.8250818252563477))\n",
      "-----------------------\n",
      "87.96164388046019\n"
     ]
    }
   ],
   "source": [
    "for i in cv_knn_basic.items():\n",
    "    print(i)\n",
    "print('-----------------------')\n",
    "print(np.mean(cv_knn_basic['test_rmse']))"
   ]
  },
  {
   "cell_type": "markdown",
   "metadata": {},
   "source": [
    "<h3>Cross validate with KNN Baseline"
   ]
  },
  {
   "cell_type": "code",
   "execution_count": 44,
   "metadata": {},
   "outputs": [
    {
     "name": "stdout",
     "output_type": "stream",
     "text": [
      "Estimating biases using als...\n",
      "Computing the pearson similarity matrix...\n",
      "Done computing similarity matrix.\n",
      "Estimating biases using als...\n",
      "Computing the pearson similarity matrix...\n",
      "Done computing similarity matrix.\n",
      "Estimating biases using als...\n",
      "Computing the pearson similarity matrix...\n",
      "Done computing similarity matrix.\n",
      "Estimating biases using als...\n",
      "Computing the pearson similarity matrix...\n",
      "Done computing similarity matrix.\n",
      "Estimating biases using als...\n",
      "Computing the pearson similarity matrix...\n",
      "Done computing similarity matrix.\n"
     ]
    }
   ],
   "source": [
    "# cross validating with KNNBaseline\n",
    "knn_baseline = KNNBaseline(sim_options={'name':'pearson','user_based':True})\n",
    "cv_knn_baseline = cross_validate(knn_baseline,data)"
   ]
  },
  {
   "cell_type": "code",
   "execution_count": 45,
   "metadata": {},
   "outputs": [
    {
     "name": "stdout",
     "output_type": "stream",
     "text": [
      "('test_rmse', array([88.00971479, 87.98190345, 87.95583155, 87.95244634, 87.90830824]))\n",
      "('test_mae', array([87.95587518, 87.91162847, 87.89700146, 87.8932098 , 87.84578813]))\n",
      "('fit_time', (1.4386487007141113, 1.3328099250793457, 1.3431859016418457, 1.3554019927978516, 1.3769490718841553))\n",
      "('test_time', (2.1821348667144775, 2.051344871520996, 2.101573944091797, 2.245371103286743, 2.297333240509033))\n"
     ]
    },
    {
     "data": {
      "text/plain": [
       "87.96164087244901"
      ]
     },
     "execution_count": 45,
     "metadata": {},
     "output_type": "execute_result"
    }
   ],
   "source": [
    "for i in cv_knn_baseline.items():\n",
    "    print(i)\n",
    "\n",
    "np.mean(cv_knn_baseline['test_rmse'])"
   ]
  },
  {
   "cell_type": "markdown",
   "metadata": {},
   "source": [
    "<h3>Make Recommendations"
   ]
  },
  {
   "cell_type": "code",
   "execution_count": 51,
   "metadata": {},
   "outputs": [
    {
     "data": {
      "text/plain": [
       "<surprise.prediction_algorithms.matrix_factorization.SVD at 0x1166349b0>"
      ]
     },
     "execution_count": 51,
     "metadata": {},
     "output_type": "execute_result"
    }
   ],
   "source": [
    "\n",
    "svd = SVD(n_factors= 20, reg_all=0.02)\n",
    "svd.fit(dataset)"
   ]
  },
  {
   "cell_type": "code",
   "execution_count": 54,
   "metadata": {},
   "outputs": [
    {
     "data": {
      "text/plain": [
       "Prediction(uid=4, iid=5, r_ui=None, est=5, details={'was_impossible': False})"
      ]
     },
     "execution_count": 54,
     "metadata": {},
     "output_type": "execute_result"
    }
   ],
   "source": [
    "svd.predict(4,5)"
   ]
  },
  {
   "cell_type": "code",
   "execution_count": null,
   "metadata": {},
   "outputs": [],
   "source": []
  }
 ],
 "metadata": {
  "kernelspec": {
   "display_name": "Python 3",
   "language": "python",
   "name": "python3"
  },
  "language_info": {
   "codemirror_mode": {
    "name": "ipython",
    "version": 3
   },
   "file_extension": ".py",
   "mimetype": "text/x-python",
   "name": "python",
   "nbconvert_exporter": "python",
   "pygments_lexer": "ipython3",
   "version": "3.7.2"
  }
 },
 "nbformat": 4,
 "nbformat_minor": 2
}

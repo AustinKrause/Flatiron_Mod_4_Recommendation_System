{
 "cells": [
  {
   "cell_type": "markdown",
   "metadata": {},
   "source": [
    "# Importing necessary libraries"
   ]
  },
  {
   "cell_type": "code",
   "execution_count": 24,
   "metadata": {},
   "outputs": [],
   "source": [
    "import pandas as pd\n",
    "import seaborn as sns"
   ]
  },
  {
   "cell_type": "code",
   "execution_count": 2,
   "metadata": {},
   "outputs": [],
   "source": [
    "df1 = pd.read_csv('New_Releases_Whiskey_Data.csv')\n",
    "df2 = pd.read_csv('Top_1000_Whiskey_Data.csv')"
   ]
  },
  {
   "cell_type": "markdown",
   "metadata": {},
   "source": [
    "### Checking out DF1 and DF2"
   ]
  },
  {
   "cell_type": "code",
   "execution_count": 3,
   "metadata": {},
   "outputs": [
    {
     "data": {
      "text/html": [
       "<div>\n",
       "<style scoped>\n",
       "    .dataframe tbody tr th:only-of-type {\n",
       "        vertical-align: middle;\n",
       "    }\n",
       "\n",
       "    .dataframe tbody tr th {\n",
       "        vertical-align: top;\n",
       "    }\n",
       "\n",
       "    .dataframe thead th {\n",
       "        text-align: right;\n",
       "    }\n",
       "</style>\n",
       "<table border=\"1\" class=\"dataframe\">\n",
       "  <thead>\n",
       "    <tr style=\"text-align: right;\">\n",
       "      <th></th>\n",
       "      <th>Unnamed: 0</th>\n",
       "      <th>price</th>\n",
       "      <th>rating</th>\n",
       "      <th>url</th>\n",
       "      <th>user</th>\n",
       "      <th>whiskey</th>\n",
       "    </tr>\n",
       "  </thead>\n",
       "  <tbody>\n",
       "    <tr>\n",
       "      <th>0</th>\n",
       "      <td>0</td>\n",
       "      <td>€ 50,88</td>\n",
       "      <td>88</td>\n",
       "      <td>https://www.whiskybase.com/whiskies/whisky/128...</td>\n",
       "      <td>benfolt</td>\n",
       "      <td>1770-glasgow-single-malt</td>\n",
       "    </tr>\n",
       "    <tr>\n",
       "      <th>1</th>\n",
       "      <td>1</td>\n",
       "      <td>€ 50,88</td>\n",
       "      <td>88</td>\n",
       "      <td>https://www.whiskybase.com/whiskies/whisky/128...</td>\n",
       "      <td>Tommib</td>\n",
       "      <td>1770-glasgow-single-malt</td>\n",
       "    </tr>\n",
       "    <tr>\n",
       "      <th>2</th>\n",
       "      <td>2</td>\n",
       "      <td>€ 50,88</td>\n",
       "      <td>87</td>\n",
       "      <td>https://www.whiskybase.com/whiskies/whisky/128...</td>\n",
       "      <td>ekonshin</td>\n",
       "      <td>1770-glasgow-single-malt</td>\n",
       "    </tr>\n",
       "    <tr>\n",
       "      <th>3</th>\n",
       "      <td>3</td>\n",
       "      <td>€ 50,88</td>\n",
       "      <td>87</td>\n",
       "      <td>https://www.whiskybase.com/whiskies/whisky/128...</td>\n",
       "      <td>MisterED</td>\n",
       "      <td>1770-glasgow-single-malt</td>\n",
       "    </tr>\n",
       "    <tr>\n",
       "      <th>4</th>\n",
       "      <td>4</td>\n",
       "      <td>€ 50,88</td>\n",
       "      <td>86</td>\n",
       "      <td>https://www.whiskybase.com/whiskies/whisky/128...</td>\n",
       "      <td>whiskyleaksulm</td>\n",
       "      <td>1770-glasgow-single-malt</td>\n",
       "    </tr>\n",
       "  </tbody>\n",
       "</table>\n",
       "</div>"
      ],
      "text/plain": [
       "   Unnamed: 0    price  rating  \\\n",
       "0           0  € 50,88      88   \n",
       "1           1  € 50,88      88   \n",
       "2           2  € 50,88      87   \n",
       "3           3  € 50,88      87   \n",
       "4           4  € 50,88      86   \n",
       "\n",
       "                                                 url            user  \\\n",
       "0  https://www.whiskybase.com/whiskies/whisky/128...         benfolt   \n",
       "1  https://www.whiskybase.com/whiskies/whisky/128...          Tommib   \n",
       "2  https://www.whiskybase.com/whiskies/whisky/128...        ekonshin   \n",
       "3  https://www.whiskybase.com/whiskies/whisky/128...        MisterED   \n",
       "4  https://www.whiskybase.com/whiskies/whisky/128...  whiskyleaksulm   \n",
       "\n",
       "                    whiskey  \n",
       "0  1770-glasgow-single-malt  \n",
       "1  1770-glasgow-single-malt  \n",
       "2  1770-glasgow-single-malt  \n",
       "3  1770-glasgow-single-malt  \n",
       "4  1770-glasgow-single-malt  "
      ]
     },
     "execution_count": 3,
     "metadata": {},
     "output_type": "execute_result"
    }
   ],
   "source": [
    "df1.head()"
   ]
  },
  {
   "cell_type": "code",
   "execution_count": 42,
   "metadata": {},
   "outputs": [
    {
     "data": {
      "text/plain": [
       "7431"
      ]
     },
     "execution_count": 42,
     "metadata": {},
     "output_type": "execute_result"
    }
   ],
   "source": [
    "len(df1)"
   ]
  },
  {
   "cell_type": "code",
   "execution_count": 4,
   "metadata": {},
   "outputs": [
    {
     "data": {
      "text/html": [
       "<div>\n",
       "<style scoped>\n",
       "    .dataframe tbody tr th:only-of-type {\n",
       "        vertical-align: middle;\n",
       "    }\n",
       "\n",
       "    .dataframe tbody tr th {\n",
       "        vertical-align: top;\n",
       "    }\n",
       "\n",
       "    .dataframe thead th {\n",
       "        text-align: right;\n",
       "    }\n",
       "</style>\n",
       "<table border=\"1\" class=\"dataframe\">\n",
       "  <thead>\n",
       "    <tr style=\"text-align: right;\">\n",
       "      <th></th>\n",
       "      <th>Unnamed: 0</th>\n",
       "      <th>price</th>\n",
       "      <th>rating</th>\n",
       "      <th>url</th>\n",
       "      <th>user</th>\n",
       "      <th>whiskey</th>\n",
       "    </tr>\n",
       "  </thead>\n",
       "  <tbody>\n",
       "    <tr>\n",
       "      <th>0</th>\n",
       "      <td>0</td>\n",
       "      <td>€ 40500,00</td>\n",
       "      <td>100</td>\n",
       "      <td>https://www.whiskybase.com/whiskies/whisky/244...</td>\n",
       "      <td>Udovitsa Andrey</td>\n",
       "      <td>laphroaig-1967-rwd</td>\n",
       "    </tr>\n",
       "    <tr>\n",
       "      <th>1</th>\n",
       "      <td>1</td>\n",
       "      <td>€ 40500,00</td>\n",
       "      <td>99</td>\n",
       "      <td>https://www.whiskybase.com/whiskies/whisky/244...</td>\n",
       "      <td>Alonzo</td>\n",
       "      <td>laphroaig-1967-rwd</td>\n",
       "    </tr>\n",
       "    <tr>\n",
       "      <th>2</th>\n",
       "      <td>2</td>\n",
       "      <td>€ 40500,00</td>\n",
       "      <td>99</td>\n",
       "      <td>https://www.whiskybase.com/whiskies/whisky/244...</td>\n",
       "      <td>whiskycuse</td>\n",
       "      <td>laphroaig-1967-rwd</td>\n",
       "    </tr>\n",
       "    <tr>\n",
       "      <th>3</th>\n",
       "      <td>3</td>\n",
       "      <td>€ 40500,00</td>\n",
       "      <td>99</td>\n",
       "      <td>https://www.whiskybase.com/whiskies/whisky/244...</td>\n",
       "      <td>Nopax</td>\n",
       "      <td>laphroaig-1967-rwd</td>\n",
       "    </tr>\n",
       "    <tr>\n",
       "      <th>4</th>\n",
       "      <td>4</td>\n",
       "      <td>€ 40500,00</td>\n",
       "      <td>99</td>\n",
       "      <td>https://www.whiskybase.com/whiskies/whisky/244...</td>\n",
       "      <td>WhiskyJug</td>\n",
       "      <td>laphroaig-1967-rwd</td>\n",
       "    </tr>\n",
       "  </tbody>\n",
       "</table>\n",
       "</div>"
      ],
      "text/plain": [
       "   Unnamed: 0       price  rating  \\\n",
       "0           0  € 40500,00     100   \n",
       "1           1  € 40500,00      99   \n",
       "2           2  € 40500,00      99   \n",
       "3           3  € 40500,00      99   \n",
       "4           4  € 40500,00      99   \n",
       "\n",
       "                                                 url             user  \\\n",
       "0  https://www.whiskybase.com/whiskies/whisky/244...  Udovitsa Andrey   \n",
       "1  https://www.whiskybase.com/whiskies/whisky/244...           Alonzo   \n",
       "2  https://www.whiskybase.com/whiskies/whisky/244...       whiskycuse   \n",
       "3  https://www.whiskybase.com/whiskies/whisky/244...            Nopax   \n",
       "4  https://www.whiskybase.com/whiskies/whisky/244...        WhiskyJug   \n",
       "\n",
       "              whiskey  \n",
       "0  laphroaig-1967-rwd  \n",
       "1  laphroaig-1967-rwd  \n",
       "2  laphroaig-1967-rwd  \n",
       "3  laphroaig-1967-rwd  \n",
       "4  laphroaig-1967-rwd  "
      ]
     },
     "execution_count": 4,
     "metadata": {},
     "output_type": "execute_result"
    }
   ],
   "source": [
    "df2.head()"
   ]
  },
  {
   "cell_type": "code",
   "execution_count": 43,
   "metadata": {},
   "outputs": [
    {
     "data": {
      "text/plain": [
       "40657"
      ]
     },
     "execution_count": 43,
     "metadata": {},
     "output_type": "execute_result"
    }
   ],
   "source": [
    "len(df2)"
   ]
  },
  {
   "cell_type": "code",
   "execution_count": 41,
   "metadata": {},
   "outputs": [],
   "source": [
    "#Consolidating the Dataframes and dropping the unnamed:0 column\n",
    "df = pd.concat([df1, df2], axis=0)\n",
    "df.drop(columns = 'Unnamed: 0', inplace = True)"
   ]
  },
  {
   "cell_type": "code",
   "execution_count": 11,
   "metadata": {},
   "outputs": [
    {
     "data": {
      "text/html": [
       "<div>\n",
       "<style scoped>\n",
       "    .dataframe tbody tr th:only-of-type {\n",
       "        vertical-align: middle;\n",
       "    }\n",
       "\n",
       "    .dataframe tbody tr th {\n",
       "        vertical-align: top;\n",
       "    }\n",
       "\n",
       "    .dataframe thead th {\n",
       "        text-align: right;\n",
       "    }\n",
       "</style>\n",
       "<table border=\"1\" class=\"dataframe\">\n",
       "  <thead>\n",
       "    <tr style=\"text-align: right;\">\n",
       "      <th></th>\n",
       "      <th>price</th>\n",
       "      <th>rating</th>\n",
       "      <th>url</th>\n",
       "      <th>user</th>\n",
       "      <th>whiskey</th>\n",
       "    </tr>\n",
       "  </thead>\n",
       "  <tbody>\n",
       "    <tr>\n",
       "      <th>0</th>\n",
       "      <td>€ 50,88</td>\n",
       "      <td>88</td>\n",
       "      <td>https://www.whiskybase.com/whiskies/whisky/128...</td>\n",
       "      <td>benfolt</td>\n",
       "      <td>1770-glasgow-single-malt</td>\n",
       "    </tr>\n",
       "    <tr>\n",
       "      <th>1</th>\n",
       "      <td>€ 50,88</td>\n",
       "      <td>88</td>\n",
       "      <td>https://www.whiskybase.com/whiskies/whisky/128...</td>\n",
       "      <td>Tommib</td>\n",
       "      <td>1770-glasgow-single-malt</td>\n",
       "    </tr>\n",
       "    <tr>\n",
       "      <th>2</th>\n",
       "      <td>€ 50,88</td>\n",
       "      <td>87</td>\n",
       "      <td>https://www.whiskybase.com/whiskies/whisky/128...</td>\n",
       "      <td>ekonshin</td>\n",
       "      <td>1770-glasgow-single-malt</td>\n",
       "    </tr>\n",
       "    <tr>\n",
       "      <th>3</th>\n",
       "      <td>€ 50,88</td>\n",
       "      <td>87</td>\n",
       "      <td>https://www.whiskybase.com/whiskies/whisky/128...</td>\n",
       "      <td>MisterED</td>\n",
       "      <td>1770-glasgow-single-malt</td>\n",
       "    </tr>\n",
       "    <tr>\n",
       "      <th>4</th>\n",
       "      <td>€ 50,88</td>\n",
       "      <td>86</td>\n",
       "      <td>https://www.whiskybase.com/whiskies/whisky/128...</td>\n",
       "      <td>whiskyleaksulm</td>\n",
       "      <td>1770-glasgow-single-malt</td>\n",
       "    </tr>\n",
       "  </tbody>\n",
       "</table>\n",
       "</div>"
      ],
      "text/plain": [
       "     price  rating                                                url  \\\n",
       "0  € 50,88      88  https://www.whiskybase.com/whiskies/whisky/128...   \n",
       "1  € 50,88      88  https://www.whiskybase.com/whiskies/whisky/128...   \n",
       "2  € 50,88      87  https://www.whiskybase.com/whiskies/whisky/128...   \n",
       "3  € 50,88      87  https://www.whiskybase.com/whiskies/whisky/128...   \n",
       "4  € 50,88      86  https://www.whiskybase.com/whiskies/whisky/128...   \n",
       "\n",
       "             user                   whiskey  \n",
       "0         benfolt  1770-glasgow-single-malt  \n",
       "1          Tommib  1770-glasgow-single-malt  \n",
       "2        ekonshin  1770-glasgow-single-malt  \n",
       "3        MisterED  1770-glasgow-single-malt  \n",
       "4  whiskyleaksulm  1770-glasgow-single-malt  "
      ]
     },
     "execution_count": 11,
     "metadata": {},
     "output_type": "execute_result"
    }
   ],
   "source": [
    "df.head()"
   ]
  },
  {
   "cell_type": "code",
   "execution_count": 9,
   "metadata": {},
   "outputs": [
    {
     "data": {
      "text/plain": [
       "48088"
      ]
     },
     "execution_count": 9,
     "metadata": {},
     "output_type": "execute_result"
    }
   ],
   "source": [
    "len(df)"
   ]
  },
  {
   "cell_type": "markdown",
   "metadata": {},
   "source": [
    "# To make our recommendation more accurate, we only want to include users who have reviewed more than 5 whiskeys"
   ]
  },
  {
   "cell_type": "code",
   "execution_count": 49,
   "metadata": {},
   "outputs": [],
   "source": [
    "df5 = df.groupby('user').filter(lambda x: len(x)>5)"
   ]
  },
  {
   "cell_type": "code",
   "execution_count": 50,
   "metadata": {
    "scrolled": true
   },
   "outputs": [
    {
     "data": {
      "text/plain": [
       "hiroshi             462\n",
       "Yuxan               291\n",
       "jyuichi             264\n",
       "Sands81             255\n",
       "Kelly-maison        244\n",
       "whiskycross         232\n",
       "fesse               232\n",
       "Nanjing             229\n",
       "tk0712              226\n",
       "Gedeon              225\n",
       "ChengA              215\n",
       "Shor5768            201\n",
       "Versucher           199\n",
       "Heller              197\n",
       "Jazzvin             195\n",
       "Entscheidung        195\n",
       "Vermont             192\n",
       "Luprit              190\n",
       "glennoname          189\n",
       "Lynchpin            185\n",
       "Agardarayet         185\n",
       "Nurmaliss           185\n",
       "phoenix             180\n",
       "Fanaberex           178\n",
       "Mordan              176\n",
       "Portacon            175\n",
       "openinterface       174\n",
       "Heimbach            173\n",
       "vandervelde         172\n",
       "sigma6              171\n",
       "                   ... \n",
       "christopherwalts      6\n",
       "Peter(TTMC)           6\n",
       "schero                6\n",
       "Robert2207            6\n",
       "Gldflo                6\n",
       "simon81               6\n",
       "Kridler               6\n",
       "Murdo                 6\n",
       "Laird Blonag          6\n",
       "whiskycanuck          6\n",
       "coolinariker          6\n",
       "Hlektrion             6\n",
       "Olivier1993           6\n",
       "Fireblader            6\n",
       "Gondwana              6\n",
       "Trulli                6\n",
       "MaltFond              6\n",
       "MarcinK               6\n",
       "Pizzaboxy             6\n",
       "lundinsplit           6\n",
       "PerWeet               6\n",
       "Ciro                  6\n",
       "Tom na Gruagaich      6\n",
       "Muff Potter           6\n",
       "Norbs                 6\n",
       "MisterED              6\n",
       "devonncream           6\n",
       "Bottlin Bond          6\n",
       "Zpjut88               6\n",
       "Pharma98              6\n",
       "Name: user, Length: 1223, dtype: int64"
      ]
     },
     "execution_count": 50,
     "metadata": {},
     "output_type": "execute_result"
    }
   ],
   "source": [
    "#df5.user.value_counts()"
   ]
  },
  {
   "cell_type": "code",
   "execution_count": 51,
   "metadata": {},
   "outputs": [
    {
     "data": {
      "text/plain": [
       "42647"
      ]
     },
     "execution_count": 51,
     "metadata": {},
     "output_type": "execute_result"
    }
   ],
   "source": [
    "len(df5.user)"
   ]
  },
  {
   "cell_type": "code",
   "execution_count": 76,
   "metadata": {},
   "outputs": [
    {
     "data": {
      "text/plain": [
       "<matplotlib.axes._subplots.AxesSubplot at 0x119ed3b38>"
      ]
     },
     "execution_count": 76,
     "metadata": {},
     "output_type": "execute_result"
    },
    {
     "data": {
      "image/png": "[encoded data removed]",
      "text/plain": [
       "<Figure size 432x288 with 1 Axes>"
      ]
     },
     "metadata": {
      "needs_background": "light"
     },
     "output_type": "display_data"
    }
   ],
   "source": [
    "# Checking for empty columns\n",
    "sns.heatmap(df5.isnull(), cbar=False)"
   ]
  },
  {
   "cell_type": "code",
   "execution_count": 54,
   "metadata": {},
   "outputs": [
    {
     "name": "stderr",
     "output_type": "stream",
     "text": [
      "/Users/hiowatah/anaconda3/lib/python3.7/site-packages/ipykernel_launcher.py:1: SettingWithCopyWarning: \n",
      "A value is trying to be set on a copy of a slice from a DataFrame\n",
      "\n",
      "See the caveats in the documentation: http://pandas.pydata.org/pandas-docs/stable/indexing.html#indexing-view-versus-copy\n",
      "  \"\"\"Entry point for launching an IPython kernel.\n"
     ]
    }
   ],
   "source": [
    "df5.dropna(inplace=True)"
   ]
  },
  {
   "cell_type": "code",
   "execution_count": 55,
   "metadata": {},
   "outputs": [
    {
     "data": {
      "text/plain": [
       "1223"
      ]
     },
     "execution_count": 55,
     "metadata": {},
     "output_type": "execute_result"
    }
   ],
   "source": [
    "len(df5.user.value_counts())"
   ]
  },
  {
   "cell_type": "markdown",
   "metadata": {},
   "source": [
    "# Creating a group_id column to maintain user name privacy"
   ]
  },
  {
   "cell_type": "code",
   "execution_count": 63,
   "metadata": {},
   "outputs": [
    {
     "name": "stderr",
     "output_type": "stream",
     "text": [
      "/Users/hiowatah/anaconda3/lib/python3.7/site-packages/ipykernel_launcher.py:1: SettingWithCopyWarning: \n",
      "A value is trying to be set on a copy of a slice from a DataFrame.\n",
      "Try using .loc[row_indexer,col_indexer] = value instead\n",
      "\n",
      "See the caveats in the documentation: http://pandas.pydata.org/pandas-docs/stable/indexing.html#indexing-view-versus-copy\n",
      "  \"\"\"Entry point for launching an IPython kernel.\n",
      "/Users/hiowatah/anaconda3/lib/python3.7/site-packages/pandas/core/frame.py:3697: SettingWithCopyWarning: \n",
      "A value is trying to be set on a copy of a slice from a DataFrame\n",
      "\n",
      "See the caveats in the documentation: http://pandas.pydata.org/pandas-docs/stable/indexing.html#indexing-view-versus-copy\n",
      "  errors=errors)\n"
     ]
    }
   ],
   "source": [
    "df5['User_ID'] = df5.groupby('user').grouper.group_info[0]"
   ]
  },
  {
   "cell_type": "markdown",
   "metadata": {},
   "source": [
    "# Testing to see if a specific user has a consistent ID"
   ]
  },
  {
   "cell_type": "code",
   "execution_count": 64,
   "metadata": {
    "scrolled": true
   },
   "outputs": [
    {
     "data": {
      "text/html": [
       "<div>\n",
       "<style scoped>\n",
       "    .dataframe tbody tr th:only-of-type {\n",
       "        vertical-align: middle;\n",
       "    }\n",
       "\n",
       "    .dataframe tbody tr th {\n",
       "        vertical-align: top;\n",
       "    }\n",
       "\n",
       "    .dataframe thead th {\n",
       "        text-align: right;\n",
       "    }\n",
       "</style>\n",
       "<table border=\"1\" class=\"dataframe\">\n",
       "  <thead>\n",
       "    <tr style=\"text-align: right;\">\n",
       "      <th></th>\n",
       "      <th>price</th>\n",
       "      <th>rating</th>\n",
       "      <th>url</th>\n",
       "      <th>user</th>\n",
       "      <th>whiskey</th>\n",
       "      <th>User_ID</th>\n",
       "    </tr>\n",
       "  </thead>\n",
       "  <tbody>\n",
       "    <tr>\n",
       "      <th>44</th>\n",
       "      <td>€ 40500,00</td>\n",
       "      <td>95</td>\n",
       "      <td>https://www.whiskybase.com/whiskies/whisky/244...</td>\n",
       "      <td>Yuxan</td>\n",
       "      <td>laphroaig-1967-rwd</td>\n",
       "      <td>808</td>\n",
       "    </tr>\n",
       "    <tr>\n",
       "      <th>290</th>\n",
       "      <td>€ 8999,00</td>\n",
       "      <td>99</td>\n",
       "      <td>https://www.whiskybase.com/whiskies/whisky/232...</td>\n",
       "      <td>Yuxan</td>\n",
       "      <td>laphroaig-1970-rwd</td>\n",
       "      <td>808</td>\n",
       "    </tr>\n",
       "    <tr>\n",
       "      <th>344</th>\n",
       "      <td>€ 6373,75</td>\n",
       "      <td>98</td>\n",
       "      <td>https://www.whiskybase.com/whiskies/whisky/926...</td>\n",
       "      <td>Yuxan</td>\n",
       "      <td>springbank-100-proof</td>\n",
       "      <td>808</td>\n",
       "    </tr>\n",
       "    <tr>\n",
       "      <th>551</th>\n",
       "      <td>€ 4616,93</td>\n",
       "      <td>96</td>\n",
       "      <td>https://www.whiskybase.com/whiskies/whisky/251...</td>\n",
       "      <td>Yuxan</td>\n",
       "      <td>glenfarclas-1958-sv</td>\n",
       "      <td>808</td>\n",
       "    </tr>\n",
       "    <tr>\n",
       "      <th>583</th>\n",
       "      <td>€ 2440,00</td>\n",
       "      <td>98</td>\n",
       "      <td>https://www.whiskybase.com/whiskies/whisky/176...</td>\n",
       "      <td>Yuxan</td>\n",
       "      <td>caol-ila-1968-rwd</td>\n",
       "      <td>808</td>\n",
       "    </tr>\n",
       "  </tbody>\n",
       "</table>\n",
       "</div>"
      ],
      "text/plain": [
       "          price  rating                                                url  \\\n",
       "44   € 40500,00      95  https://www.whiskybase.com/whiskies/whisky/244...   \n",
       "290   € 8999,00      99  https://www.whiskybase.com/whiskies/whisky/232...   \n",
       "344   € 6373,75      98  https://www.whiskybase.com/whiskies/whisky/926...   \n",
       "551   € 4616,93      96  https://www.whiskybase.com/whiskies/whisky/251...   \n",
       "583   € 2440,00      98  https://www.whiskybase.com/whiskies/whisky/176...   \n",
       "\n",
       "      user               whiskey  User_ID  \n",
       "44   Yuxan    laphroaig-1967-rwd      808  \n",
       "290  Yuxan    laphroaig-1970-rwd      808  \n",
       "344  Yuxan  springbank-100-proof      808  \n",
       "551  Yuxan   glenfarclas-1958-sv      808  \n",
       "583  Yuxan     caol-ila-1968-rwd      808  "
      ]
     },
     "execution_count": 64,
     "metadata": {},
     "output_type": "execute_result"
    }
   ],
   "source": [
    "df5[df5.user=='Yuxan'].head()"
   ]
  },
  {
   "cell_type": "code",
   "execution_count": 65,
   "metadata": {
    "scrolled": true
   },
   "outputs": [
    {
     "data": {
      "text/plain": [
       "count    41157.000000\n",
       "mean       563.068931\n",
       "std        345.489910\n",
       "min          0.000000\n",
       "25%        268.000000\n",
       "50%        548.000000\n",
       "75%        852.000000\n",
       "max       1222.000000\n",
       "Name: User_ID, dtype: float64"
      ]
     },
     "execution_count": 65,
     "metadata": {},
     "output_type": "execute_result"
    }
   ],
   "source": [
    "df5.User_ID.describe()"
   ]
  },
  {
   "cell_type": "code",
   "execution_count": 66,
   "metadata": {},
   "outputs": [],
   "source": [
    "# Dropping Usernames after getting the unique user_ids\n",
    "df5.drop(columns=['user'], inplace=True)"
   ]
  },
  {
   "cell_type": "code",
   "execution_count": 67,
   "metadata": {},
   "outputs": [
    {
     "data": {
      "text/html": [
       "<div>\n",
       "<style scoped>\n",
       "    .dataframe tbody tr th:only-of-type {\n",
       "        vertical-align: middle;\n",
       "    }\n",
       "\n",
       "    .dataframe tbody tr th {\n",
       "        vertical-align: top;\n",
       "    }\n",
       "\n",
       "    .dataframe thead th {\n",
       "        text-align: right;\n",
       "    }\n",
       "</style>\n",
       "<table border=\"1\" class=\"dataframe\">\n",
       "  <thead>\n",
       "    <tr style=\"text-align: right;\">\n",
       "      <th></th>\n",
       "      <th>price</th>\n",
       "      <th>rating</th>\n",
       "      <th>url</th>\n",
       "      <th>whiskey</th>\n",
       "      <th>User_ID</th>\n",
       "    </tr>\n",
       "  </thead>\n",
       "  <tbody>\n",
       "    <tr>\n",
       "      <th>0</th>\n",
       "      <td>€ 50,88</td>\n",
       "      <td>88</td>\n",
       "      <td>https://www.whiskybase.com/whiskies/whisky/128...</td>\n",
       "      <td>1770-glasgow-single-malt</td>\n",
       "      <td>852</td>\n",
       "    </tr>\n",
       "    <tr>\n",
       "      <th>3</th>\n",
       "      <td>€ 50,88</td>\n",
       "      <td>87</td>\n",
       "      <td>https://www.whiskybase.com/whiskies/whisky/128...</td>\n",
       "      <td>1770-glasgow-single-malt</td>\n",
       "      <td>459</td>\n",
       "    </tr>\n",
       "    <tr>\n",
       "      <th>4</th>\n",
       "      <td>€ 50,88</td>\n",
       "      <td>86</td>\n",
       "      <td>https://www.whiskybase.com/whiskies/whisky/128...</td>\n",
       "      <td>1770-glasgow-single-malt</td>\n",
       "      <td>1205</td>\n",
       "    </tr>\n",
       "    <tr>\n",
       "      <th>5</th>\n",
       "      <td>€ 50,88</td>\n",
       "      <td>85</td>\n",
       "      <td>https://www.whiskybase.com/whiskies/whisky/128...</td>\n",
       "      <td>1770-glasgow-single-malt</td>\n",
       "      <td>547</td>\n",
       "    </tr>\n",
       "    <tr>\n",
       "      <th>7</th>\n",
       "      <td>€ 50,88</td>\n",
       "      <td>84</td>\n",
       "      <td>https://www.whiskybase.com/whiskies/whisky/128...</td>\n",
       "      <td>1770-glasgow-single-malt</td>\n",
       "      <td>562</td>\n",
       "    </tr>\n",
       "  </tbody>\n",
       "</table>\n",
       "</div>"
      ],
      "text/plain": [
       "     price  rating                                                url  \\\n",
       "0  € 50,88      88  https://www.whiskybase.com/whiskies/whisky/128...   \n",
       "3  € 50,88      87  https://www.whiskybase.com/whiskies/whisky/128...   \n",
       "4  € 50,88      86  https://www.whiskybase.com/whiskies/whisky/128...   \n",
       "5  € 50,88      85  https://www.whiskybase.com/whiskies/whisky/128...   \n",
       "7  € 50,88      84  https://www.whiskybase.com/whiskies/whisky/128...   \n",
       "\n",
       "                    whiskey  User_ID  \n",
       "0  1770-glasgow-single-malt      852  \n",
       "3  1770-glasgow-single-malt      459  \n",
       "4  1770-glasgow-single-malt     1205  \n",
       "5  1770-glasgow-single-malt      547  \n",
       "7  1770-glasgow-single-malt      562  "
      ]
     },
     "execution_count": 67,
     "metadata": {},
     "output_type": "execute_result"
    }
   ],
   "source": [
    "df5.head()"
   ]
  },
  {
   "cell_type": "markdown",
   "metadata": {},
   "source": [
    "# Since we merged 2 different lists together, we believe there might be some overlap. So dropping duplicates to ensure we get rid of any overlap"
   ]
  },
  {
   "cell_type": "code",
   "execution_count": 73,
   "metadata": {
    "scrolled": true
   },
   "outputs": [
    {
     "name": "stderr",
     "output_type": "stream",
     "text": [
      "/Users/hiowatah/anaconda3/lib/python3.7/site-packages/ipykernel_launcher.py:1: SettingWithCopyWarning: \n",
      "A value is trying to be set on a copy of a slice from a DataFrame\n",
      "\n",
      "See the caveats in the documentation: http://pandas.pydata.org/pandas-docs/stable/indexing.html#indexing-view-versus-copy\n",
      "  \"\"\"Entry point for launching an IPython kernel.\n"
     ]
    }
   ],
   "source": [
    "df5.drop_duplicates(inplace=True)"
   ]
  },
  {
   "cell_type": "code",
   "execution_count": 74,
   "metadata": {},
   "outputs": [
    {
     "data": {
      "text/html": [
       "<div>\n",
       "<style scoped>\n",
       "    .dataframe tbody tr th:only-of-type {\n",
       "        vertical-align: middle;\n",
       "    }\n",
       "\n",
       "    .dataframe tbody tr th {\n",
       "        vertical-align: top;\n",
       "    }\n",
       "\n",
       "    .dataframe thead th {\n",
       "        text-align: right;\n",
       "    }\n",
       "</style>\n",
       "<table border=\"1\" class=\"dataframe\">\n",
       "  <thead>\n",
       "    <tr style=\"text-align: right;\">\n",
       "      <th></th>\n",
       "      <th>rating</th>\n",
       "      <th>User_ID</th>\n",
       "    </tr>\n",
       "  </thead>\n",
       "  <tbody>\n",
       "    <tr>\n",
       "      <th>count</th>\n",
       "      <td>41018.000000</td>\n",
       "      <td>41018.000000</td>\n",
       "    </tr>\n",
       "    <tr>\n",
       "      <th>mean</th>\n",
       "      <td>92.900556</td>\n",
       "      <td>562.449388</td>\n",
       "    </tr>\n",
       "    <tr>\n",
       "      <th>std</th>\n",
       "      <td>3.277837</td>\n",
       "      <td>345.370426</td>\n",
       "    </tr>\n",
       "    <tr>\n",
       "      <th>min</th>\n",
       "      <td>2.000000</td>\n",
       "      <td>0.000000</td>\n",
       "    </tr>\n",
       "    <tr>\n",
       "      <th>25%</th>\n",
       "      <td>92.000000</td>\n",
       "      <td>268.000000</td>\n",
       "    </tr>\n",
       "    <tr>\n",
       "      <th>50%</th>\n",
       "      <td>93.000000</td>\n",
       "      <td>548.000000</td>\n",
       "    </tr>\n",
       "    <tr>\n",
       "      <th>75%</th>\n",
       "      <td>95.000000</td>\n",
       "      <td>851.000000</td>\n",
       "    </tr>\n",
       "    <tr>\n",
       "      <th>max</th>\n",
       "      <td>100.000000</td>\n",
       "      <td>1222.000000</td>\n",
       "    </tr>\n",
       "  </tbody>\n",
       "</table>\n",
       "</div>"
      ],
      "text/plain": [
       "             rating       User_ID\n",
       "count  41018.000000  41018.000000\n",
       "mean      92.900556    562.449388\n",
       "std        3.277837    345.370426\n",
       "min        2.000000      0.000000\n",
       "25%       92.000000    268.000000\n",
       "50%       93.000000    548.000000\n",
       "75%       95.000000    851.000000\n",
       "max      100.000000   1222.000000"
      ]
     },
     "execution_count": 74,
     "metadata": {},
     "output_type": "execute_result"
    }
   ],
   "source": [
    "# Dropped 139 rows of data\n",
    "df5.describe()"
   ]
  },
  {
   "cell_type": "markdown",
   "metadata": {},
   "source": [
    "# Moving final dataframe to csv to begin making the Model"
   ]
  },
  {
   "cell_type": "code",
   "execution_count": 75,
   "metadata": {},
   "outputs": [],
   "source": [
    "df5.to_csv('Final_DataFrame.csv')"
   ]
  },
  {
   "cell_type": "code",
   "execution_count": null,
   "metadata": {},
   "outputs": [],
   "source": []
  }
 ],
 "metadata": {
  "kernelspec": {
   "display_name": "Python 3",
   "language": "python",
   "name": "python3"
  },
  "language_info": {
   "codemirror_mode": {
    "name": "ipython",
    "version": 3
   },
   "file_extension": ".py",
   "mimetype": "text/x-python",
   "name": "python",
   "nbconvert_exporter": "python",
   "pygments_lexer": "ipython3",
   "version": "3.7.1"
  }
 },
 "nbformat": 4,
 "nbformat_minor": 2
}

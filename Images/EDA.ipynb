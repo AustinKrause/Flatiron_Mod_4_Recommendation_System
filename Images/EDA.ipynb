{
 "cells": [
  {
   "cell_type": "code",
   "execution_count": 18,
   "metadata": {},
   "outputs": [],
   "source": [
    "import pandas as pd\n",
    "import seaborn as sns"
   ]
  },
  {
   "cell_type": "code",
   "execution_count": 2,
   "metadata": {},
   "outputs": [],
   "source": [
    "df = pd.read_csv('final_whiskey_data.csv')"
   ]
  },
  {
   "cell_type": "code",
   "execution_count": 6,
   "metadata": {},
   "outputs": [],
   "source": [
    "df = df.drop('Unnamed: 0', axis = 1)"
   ]
  },
  {
   "cell_type": "code",
   "execution_count": 7,
   "metadata": {},
   "outputs": [
    {
     "data": {
      "text/html": [
       "<div>\n",
       "<style scoped>\n",
       "    .dataframe tbody tr th:only-of-type {\n",
       "        vertical-align: middle;\n",
       "    }\n",
       "\n",
       "    .dataframe tbody tr th {\n",
       "        vertical-align: top;\n",
       "    }\n",
       "\n",
       "    .dataframe thead th {\n",
       "        text-align: right;\n",
       "    }\n",
       "</style>\n",
       "<table border=\"1\" class=\"dataframe\">\n",
       "  <thead>\n",
       "    <tr style=\"text-align: right;\">\n",
       "      <th></th>\n",
       "      <th>rating</th>\n",
       "      <th>url</th>\n",
       "      <th>whiskey</th>\n",
       "      <th>User_ID</th>\n",
       "      <th>Whiskey_ID</th>\n",
       "      <th>price(euro)</th>\n",
       "      <th>price(dollar)</th>\n",
       "    </tr>\n",
       "  </thead>\n",
       "  <tbody>\n",
       "    <tr>\n",
       "      <th>0</th>\n",
       "      <td>88</td>\n",
       "      <td>https://www.whiskybase.com/whiskies/whisky/128...</td>\n",
       "      <td>1770-glasgow-single-malt</td>\n",
       "      <td>852</td>\n",
       "      <td>0</td>\n",
       "      <td>50.88</td>\n",
       "      <td>56.99</td>\n",
       "    </tr>\n",
       "    <tr>\n",
       "      <th>1</th>\n",
       "      <td>87</td>\n",
       "      <td>https://www.whiskybase.com/whiskies/whisky/128...</td>\n",
       "      <td>1770-glasgow-single-malt</td>\n",
       "      <td>459</td>\n",
       "      <td>0</td>\n",
       "      <td>50.88</td>\n",
       "      <td>56.99</td>\n",
       "    </tr>\n",
       "    <tr>\n",
       "      <th>2</th>\n",
       "      <td>86</td>\n",
       "      <td>https://www.whiskybase.com/whiskies/whisky/128...</td>\n",
       "      <td>1770-glasgow-single-malt</td>\n",
       "      <td>1205</td>\n",
       "      <td>0</td>\n",
       "      <td>50.88</td>\n",
       "      <td>56.99</td>\n",
       "    </tr>\n",
       "    <tr>\n",
       "      <th>3</th>\n",
       "      <td>85</td>\n",
       "      <td>https://www.whiskybase.com/whiskies/whisky/128...</td>\n",
       "      <td>1770-glasgow-single-malt</td>\n",
       "      <td>547</td>\n",
       "      <td>0</td>\n",
       "      <td>50.88</td>\n",
       "      <td>56.99</td>\n",
       "    </tr>\n",
       "    <tr>\n",
       "      <th>4</th>\n",
       "      <td>84</td>\n",
       "      <td>https://www.whiskybase.com/whiskies/whisky/128...</td>\n",
       "      <td>1770-glasgow-single-malt</td>\n",
       "      <td>562</td>\n",
       "      <td>0</td>\n",
       "      <td>50.88</td>\n",
       "      <td>56.99</td>\n",
       "    </tr>\n",
       "  </tbody>\n",
       "</table>\n",
       "</div>"
      ],
      "text/plain": [
       "   rating                                                url  \\\n",
       "0      88  https://www.whiskybase.com/whiskies/whisky/128...   \n",
       "1      87  https://www.whiskybase.com/whiskies/whisky/128...   \n",
       "2      86  https://www.whiskybase.com/whiskies/whisky/128...   \n",
       "3      85  https://www.whiskybase.com/whiskies/whisky/128...   \n",
       "4      84  https://www.whiskybase.com/whiskies/whisky/128...   \n",
       "\n",
       "                    whiskey  User_ID  Whiskey_ID  price(euro)  price(dollar)  \n",
       "0  1770-glasgow-single-malt      852           0        50.88          56.99  \n",
       "1  1770-glasgow-single-malt      459           0        50.88          56.99  \n",
       "2  1770-glasgow-single-malt     1205           0        50.88          56.99  \n",
       "3  1770-glasgow-single-malt      547           0        50.88          56.99  \n",
       "4  1770-glasgow-single-malt      562           0        50.88          56.99  "
      ]
     },
     "execution_count": 7,
     "metadata": {},
     "output_type": "execute_result"
    }
   ],
   "source": [
    "df.head()"
   ]
  },
  {
   "cell_type": "code",
   "execution_count": 74,
   "metadata": {},
   "outputs": [
    {
     "data": {
      "text/plain": [
       "<matplotlib.axes._subplots.AxesSubplot at 0x1a1fac29b0>"
      ]
     },
     "execution_count": 74,
     "metadata": {},
     "output_type": "execute_result"
    },
    {
     "data": {
      "image/png": "[encoded data removed]",
      "text/plain": [
       "<Figure size 432x288 with 1 Axes>"
      ]
     },
     "metadata": {
      "needs_background": "light"
     },
     "output_type": "display_data"
    }
   ],
   "source": [
    "ax_1 = sns.countplot(x=\"rating\", data=df)\n",
    "\n",
    "for ind, label in enumerate(ax_1.get_xticklabels()):\n",
    "    if ind % 2 == 0:  # every 2nd label is kept\n",
    "        label.set_visible(True)\n",
    "    else:\n",
    "        label.set_visible(False)\n",
    "\n",
    "ax_1"
   ]
  },
  {
   "cell_type": "code",
   "execution_count": null,
   "metadata": {},
   "outputs": [],
   "source": []
  },
  {
   "cell_type": "code",
   "execution_count": 37,
   "metadata": {},
   "outputs": [
    {
     "data": {
      "text/plain": [
       "<matplotlib.axes._subplots.AxesSubplot at 0x1a1d590048>"
      ]
     },
     "execution_count": 37,
     "metadata": {},
     "output_type": "execute_result"
    },
    {
     "data": {
      "image/png": "[encoded data removed]",
      "text/plain": [
       "<Figure size 432x288 with 1 Axes>"
      ]
     },
     "metadata": {
      "needs_background": "light"
     },
     "output_type": "display_data"
    }
   ],
   "source": [
    "ax_2 = sns.countplot(x=\"User_ID\", data=df)\n",
    "\n",
    "for ind, label in enumerate(ax_2.get_xticklabels()):\n",
    "    if ind % 100 == 0:  # every 100th label is kept\n",
    "        label.set_visible(True)\n",
    "    else:\n",
    "        label.set_visible(False)\n",
    "\n",
    "ax_2"
   ]
  },
  {
   "cell_type": "code",
   "execution_count": 65,
   "metadata": {},
   "outputs": [],
   "source": [
    "sns.set_palette(\"Reds\", 1)"
   ]
  },
  {
   "cell_type": "code",
   "execution_count": 66,
   "metadata": {},
   "outputs": [
    {
     "data": {
      "image/png": "[encoded data removed]",
      "text/plain": [
       "<Figure size 432x288 with 1 Axes>"
      ]
     },
     "metadata": {
      "needs_background": "light"
     },
     "output_type": "display_data"
    }
   ],
   "source": [
    "ax_3 = sns.distplot(df.rating,kde=False)\n"
   ]
  },
  {
   "cell_type": "code",
   "execution_count": null,
   "metadata": {},
   "outputs": [],
   "source": []
  },
  {
   "cell_type": "code",
   "execution_count": 126,
   "metadata": {},
   "outputs": [
    {
     "data": {
      "text/plain": [
       "<matplotlib.axes._subplots.AxesSubplot at 0x1a2c064cc0>"
      ]
     },
     "execution_count": 126,
     "metadata": {},
     "output_type": "execute_result"
    },
    {
     "data": {
      "image/png": "[encoded data removed]",
      "text/plain": [
       "<Figure size 432x288 with 1 Axes>"
      ]
     },
     "metadata": {
      "needs_background": "light"
     },
     "output_type": "display_data"
    }
   ],
   "source": [
    "ax_3 = df.groupby('Whiskey_ID').count()['rating'].hist(bins = 200);\n",
    "ax_3.set_xlim(1,50);\n",
    "ax_3.set_xticks(range(1,150));\n",
    "ax_3.set_xlabel('Number of Reviews')\n",
    "ax_3.set_ylabel(\"Count of Whiskies_ID's\")\n",
    "ax_3.grid(False)\n",
    "\n",
    "for ind, label in enumerate(ax_3.get_xticklabels()):\n",
    "    if ind % 49 == 0:  # every 10th label is kept\n",
    "        label.set_visible(True)\n",
    "    else:\n",
    "        label.set_visible(False)\n",
    "\n",
    "ax_3"
   ]
  },
  {
   "cell_type": "code",
   "execution_count": 128,
   "metadata": {},
   "outputs": [
    {
     "data": {
      "text/plain": [
       "<matplotlib.axes._subplots.AxesSubplot at 0x1a2c908978>"
      ]
     },
     "execution_count": 128,
     "metadata": {},
     "output_type": "execute_result"
    },
    {
     "data": {
      "image/png": "[encoded data removed]",
      "text/plain": [
       "<Figure size 432x288 with 1 Axes>"
      ]
     },
     "metadata": {
      "needs_background": "light"
     },
     "output_type": "display_data"
    }
   ],
   "source": [
    "ax_4 = df.groupby('Whiskey_ID').count()['User_ID'].hist(bins = 200);\n",
    "ax_4.set_xlim(1,50);\n",
    "ax_4.set_xticks(range(1,150));\n",
    "ax_4.set_xlabel('Number of Reviews')\n",
    "ax_4.set_ylabel(\"Count of user_ID's\")\n",
    "ax_4.grid(False)\n",
    "\n",
    "for ind, label in enumerate(ax_4.get_xticklabels()):\n",
    "    if ind % 49 == 0:  # every 10th label is kept\n",
    "        label.set_visible(True)\n",
    "    else:\n",
    "        label.set_visible(False)\n",
    "\n",
    "ax_4"
   ]
  },
  {
   "cell_type": "code",
   "execution_count": null,
   "metadata": {},
   "outputs": [],
   "source": []
  }
 ],
 "metadata": {
  "kernelspec": {
   "display_name": "Python 3",
   "language": "python",
   "name": "python3"
  },
  "language_info": {
   "codemirror_mode": {
    "name": "ipython",
    "version": 3
   },
   "file_extension": ".py",
   "mimetype": "text/x-python",
   "name": "python",
   "nbconvert_exporter": "python",
   "pygments_lexer": "ipython3",
   "version": "3.7.2"
  }
 },
 "nbformat": 4,
 "nbformat_minor": 2
}
